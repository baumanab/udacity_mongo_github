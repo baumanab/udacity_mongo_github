{
 "metadata": {
  "name": ""
 },
 "nbformat": 3,
 "nbformat_minor": 0,
 "worksheets": [
  {
   "cells": [
    {
     "cell_type": "code",
     "collapsed": false,
     "input": [
      "cd ../GitHub/ud032/Lesson_4_Problem_Set/"
     ],
     "language": "python",
     "metadata": {},
     "outputs": [
      {
       "output_type": "stream",
       "stream": "stdout",
       "text": [
        "[Error 3] The system cannot find the path specified: u'../GitHub/ud032/Lesson_4_Problem_Set/'\n",
        "C:\\Users\\Andrew\\Documents\\GitHub\\ud032\\Lesson_4_Problem_Set\\01-Preparing_Data\n"
       ]
      }
     ],
     "prompt_number": 10
    },
    {
     "cell_type": "code",
     "collapsed": false,
     "input": [
      "ls"
     ],
     "language": "python",
     "metadata": {},
     "outputs": [
      {
       "output_type": "stream",
       "stream": "stdout",
       "text": [
        " Volume in drive C is OS\n",
        " Volume Serial Number is E897-22A6\n",
        "\n",
        " Directory of C:\\Users\\Andrew\\Documents\\GitHub\\ud032\\Lesson_4_Problem_Set\\01-Preparing_Data\n",
        "\n",
        "03/06/2014  09:48 PM    <DIR>          .\n",
        "03/06/2014  09:48 PM    <DIR>          ..\n",
        "03/06/2014  09:48 PM            79,057 arachnid.csv\n",
        "03/06/2014  09:48 PM             3,899 processing.py\n",
        "               2 File(s)         82,956 bytes\n",
        "               2 Dir(s)  848,183,103,488 bytes free\n"
       ]
      }
     ],
     "prompt_number": 11
    },
    {
     "cell_type": "code",
     "collapsed": false,
     "input": [
      "pwd"
     ],
     "language": "python",
     "metadata": {},
     "outputs": [
      {
       "metadata": {},
       "output_type": "pyout",
       "prompt_number": 12,
       "text": [
        "u'C:\\\\Users\\\\Andrew\\\\Documents\\\\GitHub\\\\ud032\\\\Lesson_4_Problem_Set\\\\01-Preparing_Data'"
       ]
      }
     ],
     "prompt_number": 12
    },
    {
     "cell_type": "code",
     "collapsed": false,
     "input": [
      "#!/usr/bin/env python\n",
      "# -*- coding: utf-8 -*-\n",
      "\"\"\"\n",
      "In this problem set you work with another type of infobox data, audit it, clean it, \n",
      "come up with a data model, insert it into a MongoDB and then run some queries against your database.\n",
      "The set contains data about Arachnid class.\n",
      "Your task in this exercise is to parse the file, process only the fields that are listed in the\n",
      "FIELDS dictionary as keys, and return a dictionary of cleaned values. \n",
      "\n",
      "The following things should be done:\n",
      "- keys of the dictionary changed according to the mapping in FIELDS dictionary\n",
      "- trim out redundant description in parenthesis from the 'rdf-schema#label' field, like \"(spider)\"\n",
      "- if 'name' is \"NULL\" or contains non-alphanumeric characters, set it to the same value as 'label'.\n",
      "- if a value of a field is \"NULL\", convert it to None\n",
      "- if there is a value in 'synonym', it should be converted to an array (list)\n",
      "  by stripping the \"{}\" characters and splitting the string on \"|\". Rest of the cleanup is up to you,\n",
      "  eg removing \"*\" prefixes etc\n",
      "- strip leading and ending whitespace from all fields, if there is any\n",
      "- the output structure should be as follows:\n",
      "{ 'label': 'Argiope',\n",
      "  'uri': 'http://dbpedia.org/resource/Argiope_(spider)',\n",
      "  'description': 'The genus Argiope includes rather large and spectacular spiders that often ...',\n",
      "  'name': 'Argiope',\n",
      "  'synonym': [\"One\", \"Two\"],\n",
      "  'classification': {\n",
      "                    'family': 'Orb-weaver spider',\n",
      "                    'class': 'Arachnid',\n",
      "                    'phylum': 'Arthropod',\n",
      "                    'order': 'Spider',\n",
      "                    'kingdom': 'Animal',\n",
      "                    'genus': None\n",
      "                    }\n",
      "}\n",
      "\"\"\"\n",
      "import codecs\n",
      "import csv\n",
      "import json\n",
      "import pprint\n",
      "import re\n",
      "\n",
      "DATAFILE = 'arachnid.csv'\n",
      "FIELDS ={'rdf-schema#label': 'label',\n",
      "         'URI': 'uri',\n",
      "         'rdf-schema#comment': 'description',\n",
      "         'synonym': 'synonym',\n",
      "         'name': 'name',\n",
      "         'family_label': 'family',\n",
      "         'class_label': 'class',\n",
      "         'phylum_label': 'phylum',\n",
      "         'order_label': 'order',\n",
      "         'kingdom_label': 'kingdom',\n",
      "         'genus_label': 'genus'}\n",
      "\n",
      "\n",
      "def process_file(filename, fields):\n",
      "\n",
      "    process_fields = fields.keys()\n",
      "    data = []\n",
      "    with open(filename, \"r\") as f:\n",
      "        reader = csv.DictReader(f)\n",
      "        \n",
      "        for i in range(3):\n",
      "            l = reader.next()\n",
      "\n",
      "        for line in reader:\n",
      "            \n",
      "                for field in process_fields():\n",
      "                    field = fields[field]\n",
      "\n",
      "        return data\n",
      "\n",
      "\n",
      "def parse_array(v):\n",
      "    if (v[0] == \"{\") and (v[-1] == \"}\"):\n",
      "        v = v.lstrip(\"{\")\n",
      "        v = v.rstrip(\"}\")\n",
      "        v_array = v.split(\"|\")\n",
      "        v_array = [i.strip() for i in v_array]\n",
      "        return v_array\n",
      "    return [v]\n",
      "\n",
      "\n",
      "def test():\n",
      "    data = process_file(DATAFILE, FIELDS)\n",
      "\n",
      "    pprint.pprint(data[0])\n",
      "    assert data[0] == {\n",
      "                        \"synonym\": None, \n",
      "                        \"name\": \"Argiope\", \n",
      "                        \"classification\": {\n",
      "                            \"kingdom\": \"Animal\", \n",
      "                            \"family\": \"Orb-weaver spider\", \n",
      "                            \"order\": \"Spider\", \n",
      "                            \"phylum\": \"Arthropod\", \n",
      "                            \"genus\": None, \n",
      "                            \"class\": \"Arachnid\"\n",
      "                        }, \n",
      "                        \"uri\": \"http://dbpedia.org/resource/Argiope_(spider)\", \n",
      "                        \"label\": \"Argiope\", \n",
      "                        \"description\": \"The genus Argiope includes rather large and spectacular spiders that often have a strikingly coloured abdomen. These spiders are distributed throughout the world. Most countries in tropical or temperate climates host one or more species that are similar in appearance. The etymology of the name is from a Greek name meaning silver-faced.\"\n",
      "                    }\n",
      "\n",
      "\n",
      "if __name__ == \"__main__\":\n",
      "    test()"
     ],
     "language": "python",
     "metadata": {},
     "outputs": [
      {
       "ename": "UnboundLocalError",
       "evalue": "local variable 'field' referenced before assignment",
       "output_type": "pyerr",
       "traceback": [
        "\u001b[1;31m---------------------------------------------------------------------------\u001b[0m\n\u001b[1;31mUnboundLocalError\u001b[0m                         Traceback (most recent call last)",
        "\u001b[1;32m<ipython-input-31-1f8cdacf166a>\u001b[0m in \u001b[0;36m<module>\u001b[1;34m()\u001b[0m\n\u001b[0;32m    103\u001b[0m \u001b[1;33m\u001b[0m\u001b[0m\n\u001b[0;32m    104\u001b[0m \u001b[1;32mif\u001b[0m \u001b[0m__name__\u001b[0m \u001b[1;33m==\u001b[0m \u001b[1;34m\"__main__\"\u001b[0m\u001b[1;33m:\u001b[0m\u001b[1;33m\u001b[0m\u001b[0m\n\u001b[1;32m--> 105\u001b[1;33m     \u001b[0mtest\u001b[0m\u001b[1;33m(\u001b[0m\u001b[1;33m)\u001b[0m\u001b[1;33m\u001b[0m\u001b[0m\n\u001b[0m",
        "\u001b[1;32m<ipython-input-31-1f8cdacf166a>\u001b[0m in \u001b[0;36mtest\u001b[1;34m()\u001b[0m\n\u001b[0;32m     82\u001b[0m \u001b[1;33m\u001b[0m\u001b[0m\n\u001b[0;32m     83\u001b[0m \u001b[1;32mdef\u001b[0m \u001b[0mtest\u001b[0m\u001b[1;33m(\u001b[0m\u001b[1;33m)\u001b[0m\u001b[1;33m:\u001b[0m\u001b[1;33m\u001b[0m\u001b[0m\n\u001b[1;32m---> 84\u001b[1;33m     \u001b[0mdata\u001b[0m \u001b[1;33m=\u001b[0m \u001b[0mprocess_file\u001b[0m\u001b[1;33m(\u001b[0m\u001b[0mDATAFILE\u001b[0m\u001b[1;33m,\u001b[0m \u001b[0mFIELDS\u001b[0m\u001b[1;33m)\u001b[0m\u001b[1;33m\u001b[0m\u001b[0m\n\u001b[0m\u001b[0;32m     85\u001b[0m \u001b[1;33m\u001b[0m\u001b[0m\n\u001b[0;32m     86\u001b[0m     \u001b[0mpprint\u001b[0m\u001b[1;33m.\u001b[0m\u001b[0mpprint\u001b[0m\u001b[1;33m(\u001b[0m\u001b[0mdata\u001b[0m\u001b[1;33m[\u001b[0m\u001b[1;36m0\u001b[0m\u001b[1;33m]\u001b[0m\u001b[1;33m)\u001b[0m\u001b[1;33m\u001b[0m\u001b[0m\n",
        "\u001b[1;32m<ipython-input-31-1f8cdacf166a>\u001b[0m in \u001b[0;36mprocess_file\u001b[1;34m(filename, fields)\u001b[0m\n\u001b[0;32m     64\u001b[0m \u001b[1;33m\u001b[0m\u001b[0m\n\u001b[0;32m     65\u001b[0m         \u001b[1;32mfor\u001b[0m \u001b[0mline\u001b[0m \u001b[1;32min\u001b[0m \u001b[0mreader\u001b[0m\u001b[1;33m:\u001b[0m\u001b[1;33m\u001b[0m\u001b[0m\n\u001b[1;32m---> 66\u001b[1;33m             \u001b[1;32mif\u001b[0m \u001b[0mfield\u001b[0m \u001b[1;32min\u001b[0m \u001b[0mprocess_fields\u001b[0m\u001b[1;33m(\u001b[0m\u001b[1;33m)\u001b[0m\u001b[1;33m:\u001b[0m\u001b[1;33m\u001b[0m\u001b[0m\n\u001b[0m\u001b[0;32m     67\u001b[0m                 \u001b[1;32mfor\u001b[0m \u001b[0mfield\u001b[0m \u001b[1;32min\u001b[0m \u001b[0mprocess_fields\u001b[0m\u001b[1;33m(\u001b[0m\u001b[1;33m)\u001b[0m\u001b[1;33m:\u001b[0m\u001b[1;33m\u001b[0m\u001b[0m\n\u001b[0;32m     68\u001b[0m                     \u001b[0mfield\u001b[0m \u001b[1;33m=\u001b[0m \u001b[0mfields\u001b[0m\u001b[1;33m[\u001b[0m\u001b[0mfield\u001b[0m\u001b[1;33m]\u001b[0m\u001b[1;33m\u001b[0m\u001b[0m\n",
        "\u001b[1;31mUnboundLocalError\u001b[0m: local variable 'field' referenced before assignment"
       ]
      }
     ],
     "prompt_number": 31
    },
    {
     "cell_type": "code",
     "collapsed": false,
     "input": [],
     "language": "python",
     "metadata": {},
     "outputs": []
    }
   ],
   "metadata": {}
  }
 ]
}