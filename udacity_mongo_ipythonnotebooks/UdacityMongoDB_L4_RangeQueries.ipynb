{
 "metadata": {
  "name": ""
 },
 "nbformat": 3,
 "nbformat_minor": 0,
 "worksheets": [
  {
   "cells": [
    {
     "cell_type": "code",
     "collapsed": false,
     "input": [
      "cd ../GitHub/ud032/Lesson_4_Working_with_MongoDB/18-Range_Queries/"
     ],
     "language": "python",
     "metadata": {},
     "outputs": [
      {
       "output_type": "stream",
       "stream": "stdout",
       "text": [
        "C:\\Users\\Andrew\\Documents\\GitHub\\ud032\\Lesson_4_Working_with_MongoDB\\18-Range_Queries\n"
       ]
      }
     ],
     "prompt_number": 1
    },
    {
     "cell_type": "code",
     "collapsed": false,
     "input": [
      "ls"
     ],
     "language": "python",
     "metadata": {},
     "outputs": [
      {
       "output_type": "stream",
       "stream": "stdout",
       "text": [
        " Volume in drive C is OS\n",
        " Volume Serial Number is E897-22A6\n",
        "\n",
        " Directory of C:\\Users\\Andrew\\Documents\\GitHub\\ud032\\Lesson_4_Working_with_MongoDB\\18-Range_Queries\n",
        "\n",
        "03/22/2014  08:30 PM    <DIR>          .\n",
        "03/22/2014  08:30 PM    <DIR>          ..\n",
        "02/11/2014  07:44 PM        13,107,734 autos.csv\n",
        "02/11/2014  07:44 PM        38,379,925 cities.csv\n",
        "03/06/2014  09:48 PM               600 example_city.txt\n",
        "03/06/2014  09:48 PM             1,007 find_cities.py\n",
        "               4 File(s)     51,489,266 bytes\n",
        "               2 Dir(s)  848,742,260,736 bytes free\n"
       ]
      }
     ],
     "prompt_number": 2
    },
    {
     "cell_type": "code",
     "collapsed": false,
     "input": [
      "!type example_city.txt"
     ],
     "language": "python",
     "metadata": {},
     "outputs": [
      {
       "output_type": "stream",
       "stream": "stdout",
       "text": [
        "{'areaCode': ['916'],\n",
        " 'areaLand': 109271000.0,\n",
        " 'country': 'United States',\n",
        " 'elevation': 13.716,\n",
        " 'foundingDate': datetime.datetime(2000, 7, 1, 0, 0),\n",
        " 'governmentType': ['Council\\u2013manager government'],\n",
        " 'homepage': ['http://elkgrovecity.org/'],\n",
        " 'isPartOf': ['California', u'Sacramento County California'],\n",
        " 'lat': 38.4383,\n",
        " 'leaderTitle': 'Chief Of Police',\n",
        " 'lon': -121.382,\n",
        " 'motto': 'Proud Heritage Bright Future',\n",
        " 'name': 'City of Elk Grove',\n",
        " 'population': 155937,\n",
        " 'postalCode': '95624 95757 95758 95759',\n",
        " 'timeZone': ['Pacific Time Zone'],\n",
        " 'utcOffset': ['-7', '-8']}\n"
       ]
      }
     ],
     "prompt_number": 3
    },
    {
     "cell_type": "code",
     "collapsed": false,
     "input": [
      "#!/usr/bin/env python\n",
      "\"\"\" Your task is to write a query that will return all cities\n",
      "that are founded in 21st century.\n",
      "Please modify only 'range_query' function, as only that will be taken into account.\n",
      "\n",
      "Your code will be run against a MongoDB instance that we have provided.\n",
      "If you want to run this code locally on your machine,\n",
      "you have to install MongoDB, download and insert the dataset.\n",
      "For instructions related to MongoDB setup and datasets please see Course Materials.\n",
      "\"\"\"\n",
      "from datetime import datetime\n",
      "    \n",
      "def get_db():\n",
      "    from pymongo import MongoClient\n",
      "    client = MongoClient('localhost:27017')\n",
      "    db = client.examples\n",
      "    return db\n",
      "\n",
      "\n",
      "def range_query():\n",
      "    # You can use datetime(year, month, day) to specify date in the query\n",
      "    query = {'foundingDate':{\"$gte\": datetime(2001,1,1)}}\n",
      "    return query\n",
      "\n",
      "\n",
      "if __name__ == \"__main__\":\n",
      "\n",
      "    db = get_db()\n",
      "    query = range_query()\n",
      "    cities = db.cities.find(query)\n",
      "\n",
      "    print \"Found cities:\", cities.count()\n",
      "    import pprint\n",
      "    pprint.pprint(cities[0])\n",
      "    \n",
      "    # follow up how to insert cities db\n"
     ],
     "language": "python",
     "metadata": {},
     "outputs": [
      {
       "ename": "IndexError",
       "evalue": "no such item for Cursor instance",
       "output_type": "pyerr",
       "traceback": [
        "\u001b[1;31m---------------------------------------------------------------------------\u001b[0m\n\u001b[1;31mIndexError\u001b[0m                                Traceback (most recent call last)",
        "\u001b[1;32m<ipython-input-1-f019d686bbb8>\u001b[0m in \u001b[0;36m<module>\u001b[1;34m()\u001b[0m\n\u001b[0;32m     32\u001b[0m     \u001b[1;32mprint\u001b[0m \u001b[1;34m\"Found cities:\"\u001b[0m\u001b[1;33m,\u001b[0m \u001b[0mcities\u001b[0m\u001b[1;33m.\u001b[0m\u001b[0mcount\u001b[0m\u001b[1;33m(\u001b[0m\u001b[1;33m)\u001b[0m\u001b[1;33m\u001b[0m\u001b[0m\n\u001b[0;32m     33\u001b[0m     \u001b[1;32mimport\u001b[0m \u001b[0mpprint\u001b[0m\u001b[1;33m\u001b[0m\u001b[0m\n\u001b[1;32m---> 34\u001b[1;33m     \u001b[0mpprint\u001b[0m\u001b[1;33m.\u001b[0m\u001b[0mpprint\u001b[0m\u001b[1;33m(\u001b[0m\u001b[0mcities\u001b[0m\u001b[1;33m[\u001b[0m\u001b[1;36m0\u001b[0m\u001b[1;33m]\u001b[0m\u001b[1;33m)\u001b[0m\u001b[1;33m\u001b[0m\u001b[0m\n\u001b[0m\u001b[0;32m     35\u001b[0m \u001b[1;33m\u001b[0m\u001b[0m\n\u001b[0;32m     36\u001b[0m     \u001b[1;31m# follow up how to insert cities db\u001b[0m\u001b[1;33m\u001b[0m\u001b[1;33m\u001b[0m\u001b[0m\n",
        "\u001b[1;32mC:\\Users\\Andrew\\Anaconda\\lib\\site-packages\\pymongo\\cursor.pyc\u001b[0m in \u001b[0;36m__getitem__\u001b[1;34m(self, index)\u001b[0m\n\u001b[0;32m    538\u001b[0m             \u001b[1;32mfor\u001b[0m \u001b[0mdoc\u001b[0m \u001b[1;32min\u001b[0m \u001b[0mclone\u001b[0m\u001b[1;33m:\u001b[0m\u001b[1;33m\u001b[0m\u001b[0m\n\u001b[0;32m    539\u001b[0m                 \u001b[1;32mreturn\u001b[0m \u001b[0mdoc\u001b[0m\u001b[1;33m\u001b[0m\u001b[0m\n\u001b[1;32m--> 540\u001b[1;33m             \u001b[1;32mraise\u001b[0m \u001b[0mIndexError\u001b[0m\u001b[1;33m(\u001b[0m\u001b[1;34m\"no such item for Cursor instance\"\u001b[0m\u001b[1;33m)\u001b[0m\u001b[1;33m\u001b[0m\u001b[0m\n\u001b[0m\u001b[0;32m    541\u001b[0m         raise TypeError(\"index %r cannot be applied to Cursor \"\n\u001b[0;32m    542\u001b[0m                         \"instances\" % index)\n",
        "\u001b[1;31mIndexError\u001b[0m: no such item for Cursor instance"
       ]
      },
      {
       "output_type": "stream",
       "stream": "stdout",
       "text": [
        "Found cities: 0\n"
       ]
      }
     ],
     "prompt_number": 1
    },
    {
     "cell_type": "code",
     "collapsed": false,
     "input": [],
     "language": "python",
     "metadata": {},
     "outputs": []
    }
   ],
   "metadata": {}
  }
 ]
}