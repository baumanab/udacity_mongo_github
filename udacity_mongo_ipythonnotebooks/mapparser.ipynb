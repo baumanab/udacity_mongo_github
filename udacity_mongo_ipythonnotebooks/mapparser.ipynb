{
 "metadata": {
  "name": ""
 },
 "nbformat": 3,
 "nbformat_minor": 0,
 "worksheets": [
  {
   "cells": [
    {
     "cell_type": "code",
     "collapsed": false,
     "input": [
      "#!/usr/bin/env python\n",
      "# -*- coding: utf-8 -*-\n",
      "\"\"\"\n",
      "Your task is to use the iterative parsing to process the map file and\n",
      "find out not only what tags are there, but also how many, to get the\n",
      "feeling on how much of which data you can expect to have in the map.\n",
      "The output should be a dictionary with the tag name as the key\n",
      "and number of times this tag can be encountered in the map as value.\n",
      "\n",
      "Note that your code will be tested with a different data file than the 'example.osm'\n",
      "\"\"\"\n",
      "import xml.etree.ElementTree as ET\n",
      "import pprint\n",
      "\n",
      "def count_tags(filename):\n",
      "        # YOUR CODE HERE\n",
      "        \n",
      "        tagsd = {}\n",
      "        \n",
      "        for event, elem in ET.iterparse(filename):\n",
      "            if event == 'end':\n",
      "                \n",
      "                if elem.tag not in tagsd.keys():\n",
      "                    tagsd[elem.tag] = 1\n",
      "                else:\n",
      "                    tagsd[elem.tag] +=1\n",
      "            elem.clear()\n",
      "        return tagsd\n",
      "\n"
     ],
     "language": "python",
     "metadata": {},
     "outputs": [],
     "prompt_number": 1
    },
    {
     "cell_type": "code",
     "collapsed": false,
     "input": [
      "count_tags('myseattle.osm')"
     ],
     "language": "python",
     "metadata": {},
     "outputs": [
      {
       "metadata": {},
       "output_type": "pyout",
       "prompt_number": 2,
       "text": [
        "{'member': 4481,\n",
        " 'meta': 1,\n",
        " 'nd': 572100,\n",
        " 'node': 524392,\n",
        " 'note': 1,\n",
        " 'osm': 1,\n",
        " 'relation': 120,\n",
        " 'tag': 361339,\n",
        " 'way': 57064}"
       ]
      }
     ],
     "prompt_number": 2
    },
    {
     "cell_type": "code",
     "collapsed": false,
     "input": [],
     "language": "python",
     "metadata": {},
     "outputs": []
    }
   ],
   "metadata": {}
  }
 ]
}