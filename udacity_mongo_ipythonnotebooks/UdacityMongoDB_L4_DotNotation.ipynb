{
 "metadata": {
  "name": ""
 },
 "nbformat": 3,
 "nbformat_minor": 0,
 "worksheets": [
  {
   "cells": [
    {
     "cell_type": "code",
     "collapsed": false,
     "input": [
      "cd ../GitHub/ud032/Lesson_4_Working_with_MongoDB/25-Dot_Notation/"
     ],
     "language": "python",
     "metadata": {},
     "outputs": [
      {
       "output_type": "stream",
       "stream": "stdout",
       "text": [
        "C:\\Users\\Andrew\\Documents\\GitHub\\ud032\\Lesson_4_Working_with_MongoDB\\25-Dot_Notation\n"
       ]
      }
     ],
     "prompt_number": 3
    },
    {
     "cell_type": "code",
     "collapsed": false,
     "input": [
      "ls"
     ],
     "language": "python",
     "metadata": {},
     "outputs": [
      {
       "output_type": "stream",
       "stream": "stdout",
       "text": [
        " Volume in drive C is OS\n",
        " Volume Serial Number is E897-22A6\n",
        "\n",
        " Directory of C:\\Users\\Andrew\\Documents\\GitHub\\ud032\\Lesson_4_Working_with_MongoDB\\25-Dot_Notation\n",
        "\n",
        "03/22/2014  08:31 PM    <DIR>          .\n",
        "03/22/2014  08:31 PM    <DIR>          ..\n",
        "02/11/2014  07:44 PM        13,107,734 autos.csv\n",
        "02/11/2014  07:44 PM        38,379,925 cities.csv\n",
        "03/06/2014  09:48 PM               886 dot_find.py\n",
        "03/06/2014  09:48 PM               383 example_auto.txt\n",
        "               4 File(s)     51,488,928 bytes\n",
        "               2 Dir(s)  848,502,714,368 bytes free\n"
       ]
      }
     ],
     "prompt_number": 4
    },
    {
     "cell_type": "code",
     "collapsed": false,
     "input": [
      "#!/usr/bin/env python\n",
      "\"\"\" Your task is to write a query that will return all cars with width dimension greater than 2.5\n",
      "Please modify only 'dot_query' function, as only that will be taken into account.\n",
      "\n",
      "Your code will be run against a MongoDB instance that we have provided.\n",
      "If you want to run this code locally on your machine,\n",
      "you have to install MongoDB, download and insert the dataset.\n",
      "For instructions related to MongoDB setup and datasets please see Course Materials.\n",
      "\"\"\"\n",
      "\n",
      "\n",
      "def get_db():\n",
      "    from pymongo import MongoClient\n",
      "    client = MongoClient('localhost:27017')\n",
      "    db = client.examples\n",
      "    return db\n",
      "\n",
      "\n",
      "def dot_query():\n",
      "    query = {'dimensions.width': {'$gt': 2.5}}\n",
      "    return query\n",
      "\n",
      "\n",
      "if __name__ == \"__main__\":\n",
      "\n",
      "    db = get_db()\n",
      "    query = dot_query()\n",
      "    cars = db.autos.find(query)\n",
      "\n",
      "    print \"Found cars:\", cars.count()\n",
      "    import pprint\n",
      "    pprint.pprint(cars[0])\n",
      "    \n",
      "    \n"
     ],
     "language": "python",
     "metadata": {},
     "outputs": [
      {
       "output_type": "stream",
       "stream": "stdout",
       "text": [
        "Found cars: 34\n",
        "{u'_id': ObjectId('532e622dd1f0611f803a246e'),\n",
        " u'dimensions': {u'length': 39.9288, u'weight': 2721000.0, u'width': 34.7472},\n",
        " u'engine': u'Crawler-transporter__1',\n",
        " u'manufacturer': u'Marion Power Shovel Company',\n",
        " u'modelYears': [],\n",
        " u'name': u'Crawler-transporter',\n",
        " u'productionYears': [],\n",
        " u'transmission': u'16 traction motors powered by four  generators'}\n"
       ]
      }
     ],
     "prompt_number": 14
    },
    {
     "cell_type": "code",
     "collapsed": false,
     "input": [],
     "language": "python",
     "metadata": {},
     "outputs": []
    }
   ],
   "metadata": {}
  }
 ]
}