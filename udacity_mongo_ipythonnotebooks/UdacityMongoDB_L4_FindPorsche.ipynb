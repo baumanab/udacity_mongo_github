{
 "metadata": {
  "name": ""
 },
 "nbformat": 3,
 "nbformat_minor": 0,
 "worksheets": [
  {
   "cells": [
    {
     "cell_type": "code",
     "collapsed": false,
     "input": [
      "cd ../GitHub/ud032/Lesson_4_Working_with_MongoDB/10-Finding_Porsche/\n"
     ],
     "language": "python",
     "metadata": {},
     "outputs": [
      {
       "output_type": "stream",
       "stream": "stdout",
       "text": [
        "C:\\Users\\Andrew\\Documents\\GitHub\\ud032\\Lesson_4_Working_with_MongoDB\\10-Finding_Porsche\n"
       ]
      }
     ],
     "prompt_number": 1
    },
    {
     "cell_type": "code",
     "collapsed": false,
     "input": [
      "ls"
     ],
     "language": "python",
     "metadata": {},
     "outputs": [
      {
       "output_type": "stream",
       "stream": "stdout",
       "text": [
        " Volume in drive C is OS\n",
        " Volume Serial Number is E897-22A6\n",
        "\n",
        " Directory of C:\\Users\\Andrew\\Documents\\GitHub\\ud032\\Lesson_4_Working_with_MongoDB\\10-Finding_Porsche\n",
        "\n",
        "03/06/2014  09:48 PM    <DIR>          .\n",
        "03/06/2014  09:48 PM    <DIR>          ..\n",
        "03/06/2014  09:48 PM               306 example_car.json\n",
        "03/06/2014  09:48 PM             1,103 find_porsche.py\n",
        "               2 File(s)          1,409 bytes\n",
        "               2 Dir(s)  849,215,471,616 bytes free\n"
       ]
      }
     ],
     "prompt_number": 2
    },
    {
     "cell_type": "code",
     "collapsed": false,
     "input": [
      "#!/usr/bin/env python\n",
      "\"\"\"\n",
      "Your task is to complete the 'porsche_query' function and in particular the query\n",
      "to find all autos where the manufacturer field matches \"Porsche\".\n",
      "Please modify only 'porsche_query' function, as only that will be taken into account.\n",
      "\n",
      "Your code will be run against a MongoDB instance that we have provided.\n",
      "If you want to run this code locally on your machine,\n",
      "you have to install MongoDB and download and insert the dataset.\n",
      "For instructions related to MongoDB setup and datasets please see Course Materials at\n",
      "the following link:\n",
      "https://www.udacity.com/wiki/ud032\n",
      "\"\"\"\n",
      "\n",
      "\n",
      "def get_db(db_name):\n",
      "    from pymongo import MongoClient\n",
      "    client = MongoClient('localhost:27017')\n",
      "    db = client[db_name]\n",
      "    return db\n",
      "\n",
      "\n",
      "def porsche_query():\n",
      "    # Please fill in the query to find all autos manuafactured by Porsche\n",
      "    query = {\"manufacturer\":\"Porsche\"}\n",
      "    return query\n",
      "\n",
      "\n",
      "def find_porsche(db, query):\n",
      "    return db.autos.find(query)\n",
      "\n",
      "\n",
      "if __name__ == \"__main__\":\n",
      "\n",
      "    db = get_db('examples')\n",
      "    query = porsche_query()\n",
      "    p = find_porsche(db, query)\n",
      "    import pprint\n",
      "    print db.autos.find_one()\n",
      "    \n",
      "# follow up question how do I print the first 3 results\n",
      "#follow up inserting the autos csv as the db\n",
      "#follow up wtf is examples?"
     ],
     "language": "python",
     "metadata": {},
     "outputs": [
      {
       "output_type": "stream",
       "stream": "stdout",
       "text": [
        "{u'assembly': [u'Hiroshima', u'Japan'], u'name': [u'Eunos Roadster', u'Mazda MX-5', u'Mazda MX-5 Miata', u'Mazda Miata', u'Mazda Roadster'], u'modelYears': [], u'productionYears': [], u'layout': u'front-engine rear-wheel-drive layout', u'_id': ObjectId('532bd432d1f0611f38ffbc87'), u'class': u'roadster', u'manufacturer': u'Mazda'}\n"
       ]
      }
     ],
     "prompt_number": 8
    },
    {
     "cell_type": "code",
     "collapsed": false,
     "input": [],
     "language": "python",
     "metadata": {},
     "outputs": []
    }
   ],
   "metadata": {}
  }
 ]
}