{
 "metadata": {
  "name": ""
 },
 "nbformat": 3,
 "nbformat_minor": 0,
 "worksheets": [
  {
   "cells": [
    {
     "cell_type": "code",
     "collapsed": false,
     "input": [
      "cd C:\\Users\\Andrew\\Documents\\GitHub\\ud032\\Lesson_2_Problem_Set\\01-Carrier_List"
     ],
     "language": "python",
     "metadata": {},
     "outputs": [
      {
       "output_type": "stream",
       "stream": "stdout",
       "text": [
        "C:\\Users\\Andrew\\Documents\\GitHub\\ud032\\Lesson_2_Problem_Set\\01-Carrier_List\n"
       ]
      }
     ],
     "prompt_number": 1
    },
    {
     "cell_type": "code",
     "collapsed": false,
     "input": [
      "#!/usr/bin/env python\n",
      "# -*- coding: utf-8 -*-\n",
      "# Please note that the function 'make_request' is provided for your reference only.\n",
      "# You will not be able to to actually use it from within the Udacity web UI\n",
      "# All your changes should be in the 'extract_carrier' function\n",
      "# Also note that the html file is a stripped down version of what is actually on the website.\n",
      "\n",
      "# Your task in this exercise is to get list of all airlines. Exclude all of the combination\n",
      "# values, like \"All U.S. Carriers\" from the data that you return.\n",
      "# You should return a list of codes for the carriers.\n",
      "\n",
      "from bs4 import BeautifulSoup\n",
      "html_page = \"options.html\"\n",
      "\n",
      "\n",
      "def extract_carriers(page):\n",
      "    data = []\n",
      "\n",
      "    with open(page, \"r\") as html:\n",
      "        # do something here to find the necessary values\n",
      "        soup = BeautifulSoup(html)\n",
      "\n",
      "    \n",
      "    \n",
      "\n",
      "        cl = soup.find(id=\"CarrierList\")\n",
      "        for option in cl.find_all('option'):\n",
      "            if not 'All' in option['value']:\n",
      "                data.append(option['value'])\n",
      "        \n",
      "\n",
      "    return data\n",
      "\n",
      "\n",
      "def make_request(data):\n",
      "    eventvalidation = data[\"eventvalidation\"]\n",
      "    viewstate = data[\"viewstate\"]\n",
      "    airport = data[\"airport\"]\n",
      "    carrier = data[\"carrier\"]\n",
      "\n",
      "    r = requests.post(\"http://www.transtats.bts.gov/Data_Elements.aspx?Data=2\",\n",
      "                    data={'AirportList': airport,\n",
      "                          'CarrierList': carrier,\n",
      "                          'Submit': 'Submit',\n",
      "                          \"__EVENTTARGET\": \"\",\n",
      "                          \"__EVENTARGUMENT\": \"\",\n",
      "                          \"__EVENTVALIDATION\": eventvalidation,\n",
      "                          \"__VIEWSTATE\": viewstate\n",
      "                    })\n",
      "\n",
      "    return r.text\n",
      "\n",
      "\n",
      "def test():\n",
      "    data = extract_carriers(html_page)\n",
      "    assert len(data) == 16\n",
      "    assert \"FL\" in data\n",
      "    assert \"NK\" in data\n",
      "\n",
      "test()"
     ],
     "language": "python",
     "metadata": {},
     "outputs": [],
     "prompt_number": 2
    },
    {
     "cell_type": "code",
     "collapsed": false,
     "input": [
      "print(test())"
     ],
     "language": "python",
     "metadata": {},
     "outputs": [
      {
       "output_type": "stream",
       "stream": "stdout",
       "text": [
        "None\n"
       ]
      }
     ],
     "prompt_number": 3
    },
    {
     "cell_type": "code",
     "collapsed": false,
     "input": [
      "extract_carriers('options.html')"
     ],
     "language": "python",
     "metadata": {},
     "outputs": [
      {
       "metadata": {},
       "output_type": "pyout",
       "prompt_number": 4,
       "text": [
        "['FL',\n",
        " 'AS',\n",
        " 'AA',\n",
        " 'MQ',\n",
        " '5Y',\n",
        " 'DL',\n",
        " 'EV',\n",
        " 'F9',\n",
        " 'HA',\n",
        " 'B6',\n",
        " 'OO',\n",
        " 'WN',\n",
        " 'NK',\n",
        " 'US',\n",
        " 'UA',\n",
        " 'VX']"
       ]
      }
     ],
     "prompt_number": 4
    },
    {
     "cell_type": "code",
     "collapsed": false,
     "input": [],
     "language": "python",
     "metadata": {},
     "outputs": []
    }
   ],
   "metadata": {}
  }
 ]
}