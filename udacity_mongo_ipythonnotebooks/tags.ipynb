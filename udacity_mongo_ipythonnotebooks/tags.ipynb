{
 "metadata": {
  "name": ""
 },
 "nbformat": 3,
 "nbformat_minor": 0,
 "worksheets": [
  {
   "cells": [
    {
     "cell_type": "code",
     "collapsed": false,
     "input": [
      "#!/usr/bin/env python\n",
      "# -*- coding: utf-8 -*-\n",
      "import xml.etree.ElementTree as ET\n",
      "import pprint\n",
      "import re\n",
      "\"\"\"\n",
      "Your task is to explore the data a bit more.\n",
      "Before you process the data and add it into MongoDB, you should\n",
      "check the \"k\" value for each \"<tag>\" and see if they can be valid keys in MongoDB,\n",
      "as well as see if there are any other potential problems.\n",
      "\n",
      "We have provided you with 3 regular expressions to check for certain patterns\n",
      "in the tags. As we saw in the quiz earlier, we would like to change the data model\n",
      "and expand the \"addr:street\" type of keys to a dictionary like this:\n",
      "{\"address\": {\"street\": \"Some value\"}}\n",
      "So, we have to see if we have such tags, and if we have any tags with problematic characters.\n",
      "Please complete the function 'key_type'.\n",
      "\"\"\"\n",
      "\n",
      "\n",
      "lower = re.compile(r'^([a-z]|_)*$')\n",
      "lower_colon = re.compile(r'^([a-z]|_)*:([a-z]|_)*$')\n",
      "problemchars = re.compile(r'[=\\+/&<>;\\'\"\\?%#$@\\,\\. \\t\\r\\n]')\n",
      "\n",
      "\n",
      "def key_type(element, keys):\n",
      "    if element.tag == \"tag\":\n",
      "        # YOUR CODE HERE\n",
      "        #determine if a tag matches one of the regular expression conditions above and add a count to the dict for that condition\n",
      "        for tag in element.iter('tag'):\n",
      "            tagk = tag.attrib['k']\n",
      "            if lower.match(tagk):\n",
      "                keys['lower'] += 1\n",
      "            elif problemchars.match(tagk):\n",
      "                keys['problemchars'] += 1\n",
      "            elif lower_colon.match(tagk):\n",
      "                keys['lower_colon'] += 1\n",
      "            #if none of the searches as true add a count to 'other'\n",
      "            else:\n",
      "                keys['other'] += 1\n",
      "        \n",
      "    return keys\n",
      "\n",
      "\n",
      "\n",
      "def process_map(filename):\n",
      "    keys = {\"lower\": 0, \"lower_colon\": 0, \"problemchars\": 0, \"other\": 0}\n",
      "    for _, element in ET.iterparse(filename):\n",
      "        keys = key_type(element, keys)\n",
      "\n",
      "    return keys\n",
      "\n",
      "\n",
      "\n"
     ],
     "language": "python",
     "metadata": {},
     "outputs": [],
     "prompt_number": 2
    },
    {
     "cell_type": "code",
     "collapsed": false,
     "input": [
      "process_map('myseattle.osm')"
     ],
     "language": "python",
     "metadata": {},
     "outputs": [
      {
       "metadata": {},
       "output_type": "pyout",
       "prompt_number": 3,
       "text": [
        "{'lower': 140775, 'lower_colon': 218648, 'other': 1916, 'problemchars': 0}"
       ]
      }
     ],
     "prompt_number": 3
    },
    {
     "cell_type": "code",
     "collapsed": false,
     "input": [],
     "language": "python",
     "metadata": {},
     "outputs": []
    }
   ],
   "metadata": {}
  }
 ]
}