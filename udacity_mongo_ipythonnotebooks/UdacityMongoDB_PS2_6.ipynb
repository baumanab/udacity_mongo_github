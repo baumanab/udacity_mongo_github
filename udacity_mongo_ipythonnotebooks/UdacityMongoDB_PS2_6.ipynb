{
 "metadata": {
  "name": ""
 },
 "nbformat": 3,
 "nbformat_minor": 0,
 "worksheets": [
  {
   "cells": [
    {
     "cell_type": "code",
     "collapsed": false,
     "input": [
      "cd ../GitHub/ud032/Lesson_2_Problem_Set/06-Processing_Patents/\n"
     ],
     "language": "python",
     "metadata": {},
     "outputs": [
      {
       "output_type": "stream",
       "stream": "stdout",
       "text": [
        "C:\\Users\\Andrew\\Documents\\GitHub\\ud032\\Lesson_2_Problem_Set\\06-Processing_Patents\n"
       ]
      }
     ],
     "prompt_number": 1
    },
    {
     "cell_type": "code",
     "collapsed": false,
     "input": [
      "#!/usr/bin/env python\n",
      "# -*- coding: utf-8 -*-\n",
      "# So, the problem is that the gigantic file is actually not a valid XML, because\n",
      "# it has several root elements, and XML declarations.\n",
      "# It is, a matter of fact, a collection of a lot of concatenated XML documents.\n",
      "# So, one solution would be to split the file into separate documents,\n",
      "# so that you can process the resulting files as valid XML documents.\n",
      "\n",
      "import xml.etree.ElementTree as ET\n",
      "PATENTS = 'patent.data'\n",
      "\n",
      "def get_root(fname):\n",
      "    tree = ET.parse(fname)\n",
      "    return tree.getroot()\n",
      "\n",
      "\n",
      "def split_file(filename):\n",
      "    # we want you to split the input file into separate files\n",
      "    # each containing a single patent.\n",
      "    # As a hint - each patent declaration starts with the same line that was causing the error\n",
      "    # The new files should be saved with filename in the following format:\n",
      "    # \"{}-{}\".format(filename, n) where n is a counter, starting from 0.\n",
      "    \n",
      "    with open(filename, \"rb\") as f:\n",
      "        n= 0\n",
      "        nfname = \"{}-{}\".format(PATENTS, n)\n",
      "        for line in f:\n",
      "                with open(nfname+str(n), \"w\") as nf:\n",
      "                        nf.write(line)\n",
      "                if line.startswith('<?xml'):\n",
      "                                n+=1\n",
      "                \n",
      "        \n",
      "\n",
      "\n",
      "def test():\n",
      "    split_file(PATENTS)\n",
      "    for n in range(4):\n",
      "        try:\n",
      "            fname = \"{}-{}\".format(PATENTS, n)\n",
      "            f = open(fname, \"r\")\n",
      "            if not f.readline().startswith(\"<?xml\"):\n",
      "                print \"You have not split the file {} in the correct boundary!\".format(fname)\n",
      "            f.close()\n",
      "        except:\n",
      "            print \"Could not find file {}. Check if the filename is correct!\".format(fname)\n",
      "\n",
      "\n",
      "test()"
     ],
     "language": "python",
     "metadata": {},
     "outputs": [
      {
       "output_type": "stream",
       "stream": "stdout",
       "text": [
        "Could not find file patent.data-0. Check if the filename is correct!\n",
        "Could not find file patent.data-1. Check if the filename is correct!\n",
        "Could not find file patent.data-2. Check if the filename is correct!\n",
        "Could not find file patent.data-3. Check if the filename is correct!\n"
       ]
      }
     ],
     "prompt_number": 7
    },
    {
     "cell_type": "code",
     "collapsed": false,
     "input": [
      "ls"
     ],
     "language": "python",
     "metadata": {},
     "outputs": [
      {
       "output_type": "stream",
       "stream": "stdout",
       "text": [
        " Volume in drive C is OS\n",
        " Volume Serial Number is E897-22A6\n",
        "\n",
        " Directory of C:\\Users\\Andrew\\Documents\\GitHub\\ud032\\Lesson_2_Problem_Set\\06-Processing_Patents\n",
        "\n",
        "03/12/2014  12:46 PM    <DIR>          .\n",
        "03/12/2014  12:46 PM    <DIR>          ..\n",
        "03/06/2014  09:48 PM            68,318 patent.data\n",
        "03/12/2014  12:47 PM                41 patent.data-00\n",
        "03/12/2014  12:47 PM                41 patent.data-01\n",
        "03/12/2014  12:47 PM                41 patent.data-02\n",
        "03/12/2014  12:47 PM                41 patent.data-03\n",
        "03/12/2014  12:47 PM                21 patent.data-04\n",
        "03/06/2014  09:48 PM             1,397 split_data.py\n",
        "               7 File(s)         69,900 bytes\n",
        "               2 Dir(s)  853,715,562,496 bytes free\n"
       ]
      }
     ],
     "prompt_number": 6
    },
    {
     "cell_type": "code",
     "collapsed": false,
     "input": [
      "#Solution from Udacity Coach Jonathon:\n",
      "\n",
      "#http://pastebin.com/FpYJidMq\n",
      "\n",
      "def split_file(filename):\n",
      "    with open(filename, 'r') as xml:\n",
      "        count = 0\n",
      "        for line in xml:  \n",
      "            with open('{}-{}'.format(filename,count), 'w') as f:\n",
      "                    f.write(line.strip())\n",
      "            if line.strip() == '<?xml version=\"1.0\" encoding=\"UTF-8\"?>':\n",
      "                count+=1\n",
      "       \n",
      "    pass\n"
     ],
     "language": "python",
     "metadata": {},
     "outputs": []
    }
   ],
   "metadata": {}
  }
 ]
}