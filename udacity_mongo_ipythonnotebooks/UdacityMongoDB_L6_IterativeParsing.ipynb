{
 "metadata": {
  "name": ""
 },
 "nbformat": 3,
 "nbformat_minor": 0,
 "worksheets": [
  {
   "cells": [
    {
     "cell_type": "code",
     "collapsed": false,
     "input": [
      "cd .."
     ],
     "language": "python",
     "metadata": {},
     "outputs": [
      {
       "output_type": "stream",
       "stream": "stdout",
       "text": [
        "C:\\Users\\Andrew\\Documents\n"
       ]
      }
     ],
     "prompt_number": 1
    },
    {
     "cell_type": "code",
     "collapsed": false,
     "input": [
      "cd Udacity/udacity_mongo/"
     ],
     "language": "python",
     "metadata": {},
     "outputs": [
      {
       "output_type": "stream",
       "stream": "stdout",
       "text": [
        "C:\\Users\\Andrew\\Documents\\Udacity\\udacity_mongo\n"
       ]
      }
     ],
     "prompt_number": 2
    },
    {
     "cell_type": "code",
     "collapsed": false,
     "input": [
      "#!/usr/bin/env python\n",
      "# -*- coding: utf-8 -*-\n",
      "\"\"\"\n",
      "Your task is to use the iterative parsing to process the map file and\n",
      "find out not only what tags are there, but also how many, to get the\n",
      "feeling on how much of which data you can expect to have in the map.\n",
      "The output should be a dictionary with the tag name as the key\n",
      "and number of times this tag can be encountered in the map as value.\n",
      "\n",
      "Note that your code will be tested with a different data file than the 'example.osm'\n",
      "\"\"\"\n",
      "import xml.etree.ElementTree as ET\n",
      "import pprint\n",
      "\n",
      "def count_tags(filename):\n",
      "        # YOUR CODE HERE\n",
      "        \n",
      "        tagsd = {}\n",
      "        \n",
      "        for event, elem in ET.iterparse(filename):\n",
      "            if event == 'end':\n",
      "                \n",
      "                if elem.tag not in tagsd.keys():\n",
      "                    tagsd[elem.tag] = 1\n",
      "                else:\n",
      "                    tagsd[elem.tag] +=1\n",
      "            elem.clear\n",
      "        return tagsd\n",
      "\n",
      "\n",
      "def test():\n",
      "\n",
      "    tags = count_tags('example.osm')\n",
      "    pprint.pprint(tags)\n",
      "    assert tags == {'bounds': 1,\n",
      "                     'member': 3,\n",
      "                     'nd': 4,\n",
      "                     'node': 20,\n",
      "                     'osm': 1,\n",
      "                     'relation': 1,\n",
      "                     'tag': 7,\n",
      "                     'way': 1}\n",
      "\n",
      "    \n",
      "\n",
      "if __name__ == \"__main__\":\n",
      "    test()"
     ],
     "language": "python",
     "metadata": {},
     "outputs": [
      {
       "output_type": "stream",
       "stream": "stdout",
       "text": [
        "{'bounds': 1,\n",
        " 'member': 3,\n",
        " 'nd': 4,\n",
        " 'node': 20,\n",
        " 'osm': 1,\n",
        " 'relation': 1,\n",
        " 'tag': 7,\n",
        " 'way': 1}\n"
       ]
      }
     ],
     "prompt_number": 3
    },
    {
     "cell_type": "code",
     "collapsed": false,
     "input": [],
     "language": "python",
     "metadata": {},
     "outputs": []
    }
   ],
   "metadata": {}
  }
 ]
}