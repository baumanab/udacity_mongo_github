{
 "metadata": {
  "name": ""
 },
 "nbformat": 3,
 "nbformat_minor": 0,
 "worksheets": [
  {
   "cells": [
    {
     "cell_type": "code",
     "collapsed": false,
     "input": [
      "cd ../Udacity/udacity_mongo/"
     ],
     "language": "python",
     "metadata": {},
     "outputs": [
      {
       "output_type": "stream",
       "stream": "stdout",
       "text": [
        "[Error 3] The system cannot find the path specified: u'../Udacity/udacity_mongo/'\n",
        "C:\\Users\\Andrew\\Documents\\Udacity\\udacity_mongo\n"
       ]
      }
     ],
     "prompt_number": 8
    },
    {
     "cell_type": "code",
     "collapsed": false,
     "input": [
      "pwd"
     ],
     "language": "python",
     "metadata": {},
     "outputs": [
      {
       "metadata": {},
       "output_type": "pyout",
       "prompt_number": 9,
       "text": [
        "u'C:\\\\Users\\\\Andrew\\\\Documents\\\\Udacity\\\\udacity_mongo'"
       ]
      }
     ],
     "prompt_number": 9
    },
    {
     "cell_type": "code",
     "collapsed": false,
     "input": [
      "# -*- coding: utf-8 -*-\n",
      "# Find the time and value of max load for each of the regions\n",
      "# COAST, EAST, FAR_WEST, NORTH, NORTH_C, SOUTHERN, SOUTH_C, WEST\n",
      "# and write the result out in a csv file, using pipe character | as the delimiter.\n",
      "# An example output can be seen in the \"example.csv\" file.\n",
      "import xlrd\n",
      "import os\n",
      "import csv\n",
      "from zipfile import ZipFile\n",
      "datafile = \"2013_ERCOT_Hourly_Load_Data.xls\"\n",
      "outfile = \"2013_Max_Loads.csv\"\n",
      "\n",
      "\n",
      "def open_zip(datafile):\n",
      "    with ZipFile('{0}.zip'.format(datafile[:-4]), 'r') as myzip:\n",
      "        myzip.extractall()\n",
      "\n",
      "\n",
      "def parse_file(datafile):\n",
      "    workbook = xlrd.open_workbook(datafile)\n",
      "    sheet = workbook.sheet_by_index(0)\n",
      "    data = {}\n",
      "    # YOUR CODE HERE\n",
      "    # Remember that you can use xlrd.xldate_as_tuple(sometime, 0) to convert\n",
      "    # Excel date to Python tuple of (year, month, day, hour, minute, second)\n",
      "    # process all rows that contain station data\n",
      "    for n in range (1, 9):\n",
      "        station = sheet.cell_value(0, n)\n",
      "        cv = sheet.col_values(n, start_rowx=1, end_rowx=None)\n",
      "\n",
      "        maxval = max(cv)\n",
      "        maxpos = cv.index(maxval) + 1\n",
      "        maxtime = sheet.cell_value(maxpos, 0)\n",
      "        realtime = xlrd.xldate_as_tuple(maxtime, 0)\n",
      "        data[station] = {\"maxval\": maxval,\n",
      "                         \"maxtime\": realtime}\n",
      "\n",
      "    print data\n",
      "    return data\n",
      "\n",
      "def save_file(data, filename):\n",
      "    # YOUR CODE HERE\n",
      "     with open(filename, \"w\") as f:\n",
      "        w = csv.writer(f, delimiter='|')\n",
      "        w.writerow([\"Station\", \"Year\", \"Month\", \"Day\", \"Hour\", \"Max Load\"])\n",
      "        for s in data:\n",
      "            year, month, day, hour, _ , _= data[s][\"maxtime\"]\n",
      "            w.writerow([s, year, month, day, hour, data[s][\"maxval\"]])\n",
      "\n",
      "    \n",
      "def test():\n",
      "    open_zip(datafile)\n",
      "    data = parse_file(datafile)\n",
      "    save_file(data, outfile)\n",
      "\n",
      "    ans = {'FAR_WEST': {'Max Load': \"2281.2722140000024\", 'Year': \"2013\", \"Month\": \"6\", \"Day\": \"26\", \"Hour\": \"17\"}}\n",
      "    \n",
      "    fields = [\"Year\", \"Month\", \"Day\", \"Hour\", \"Max Load\"]\n",
      "    with open(outfile) as of:\n",
      "        csvfile = csv.DictReader(of, delimiter=\"|\")\n",
      "        for line in csvfile:\n",
      "            s = line[\"Station\"]\n",
      "            if s == 'FAR_WEST':\n",
      "                for field in fields:\n",
      "                    assert ans[s][field] == line[field]\n",
      "\n",
      "        \n",
      "test()"
     ],
     "language": "python",
     "metadata": {},
     "outputs": [
      {
       "output_type": "stream",
       "stream": "stdout",
       "text": [
        "{u'FAR_WEST': {'maxval': 2281.2722140000024, 'maxtime': (2013, 6, 26, 17, 0, 0)}, u'NORTH': {'maxval': 1544.7707140000005, 'maxtime': (2013, 8, 7, 17, 0, 0)}, u'WEST': {'maxval': 1862.6137649999998, 'maxtime': (2013, 8, 7, 17, 0, 0)}, u'SOUTHERN': {'maxval': 5494.157645, 'maxtime': (2013, 8, 8, 16, 0, 0)}, u'SOUTH_C': {'maxval': 11433.30491600001, 'maxtime': (2013, 8, 8, 18, 0, 0)}, u'COAST': {'maxval': 18779.025510000003, 'maxtime': (2013, 8, 13, 17, 0, 0)}, u'NORTH_C': {'maxval': 24415.570226999993, 'maxtime': (2013, 8, 7, 18, 0, 0)}, u'EAST': {'maxval': 2380.1654089999956, 'maxtime': (2013, 8, 5, 17, 0, 0)}}\n"
       ]
      }
     ],
     "prompt_number": 14
    },
    {
     "cell_type": "code",
     "collapsed": false,
     "input": [
      "ls"
     ],
     "language": "python",
     "metadata": {},
     "outputs": [
      {
       "output_type": "stream",
       "stream": "stdout",
       "text": [
        " Volume in drive C is OS\n",
        " Volume Serial Number is E897-22A6\n",
        "\n",
        " Directory of C:\\Users\\Andrew\\Documents\\Udacity\\udacity_mongo\n",
        "\n",
        "03/03/2014  05:58 PM    <DIR>          .\n",
        "03/03/2014  05:58 PM    <DIR>          ..\n",
        "03/03/2014  05:57 PM           746,002 2013_ERCOT_Hourly_Load_Data.zip\n",
        "02/26/2014  11:20 AM            83,335 Additional MongoDB Materials - Udacity.pdf\n",
        "03/01/2014  10:53 AM         1,850,549 autos.csv.zip\n",
        "02/26/2014  10:24 AM            14,074 beatles-1.ods\n",
        "02/26/2014  10:24 AM            10,752 beatles-1.xls\n",
        "03/01/2014  08:16 AM             1,869 beatles-diskography.csv\n",
        "03/01/2014  10:56 AM       103,111,274 chicago.osm.bz2\n",
        "03/01/2014  10:53 AM         4,451,176 cities.csv.zip\n",
        "03/01/2014  10:53 AM            10,810 download.htm\n",
        "03/01/2014  10:54 AM            62,538 exampleResearchArticle.xml\n",
        "02/26/2014  11:38 AM            51,509 Generate Test Data - MongoDB Manual 2.4.9.htm\n",
        "02/27/2014  11:40 AM    <DIR>          Generate Test Data - MongoDB Manual 2.4.9_files\n",
        "02/26/2014  11:39 AM           168,237 Generate Test Data - MongoDB Manual 2.4.pdf\n",
        "02/26/2014  11:38 AM            76,745 Getting Started with MongoDB - MongoDB Manual 2.4.9.htm\n",
        "02/27/2014  11:40 AM    <DIR>          Getting Started with MongoDB - MongoDB Manual 2.4.9_files\n",
        "02/26/2014  11:39 AM           300,461 Getting Started with MongoDB - MongoDB Manual 2.4.pdf\n",
        "03/02/2014  07:01 AM            19,893 gg.csv\n",
        "02/26/2014  11:38 AM           215,852 Install MongoDB on Ubuntu - MongoDB Manual 2.4.pdf\n",
        "02/26/2014  11:38 AM            55,567 Install MongoDB on Windows - MongoDB Manual 2.4.9.htm\n",
        "02/27/2014  11:40 AM    <DIR>          Install MongoDB on Windows - MongoDB Manual 2.4.9_files\n",
        "02/26/2014  11:39 AM           271,240 Install MongoDB on Windows - MongoDB Manual 2.4.pdf\n",
        "02/26/2014  10:28 AM        94,301,483 mongodb-linux-i686-2.4.9.tgz\n",
        "02/26/2014  10:28 AM       106,505,637 mongodb-win32-x86_64-2008plus-2.4.9.zip\n",
        "03/03/2014  05:46 PM         3,378,201 popular-viewed-1-full.json\n",
        "02/26/2014  11:41 AM           152,293 The MongoDB 2.4 Manual - MongoDB Manual 2.4.pdf\n",
        "03/01/2014  10:54 AM        16,631,332 twitter.json.zip\n",
        "              23 File(s)    332,470,829 bytes\n",
        "               5 Dir(s)  913,417,498,624 bytes free\n"
       ]
      }
     ],
     "prompt_number": 11
    },
    {
     "cell_type": "code",
     "collapsed": false,
     "input": [],
     "language": "python",
     "metadata": {},
     "outputs": []
    }
   ],
   "metadata": {}
  }
 ]
}