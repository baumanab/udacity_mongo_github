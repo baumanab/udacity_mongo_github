{
 "metadata": {
  "name": ""
 },
 "nbformat": 3,
 "nbformat_minor": 0,
 "worksheets": [
  {
   "cells": [
    {
     "cell_type": "code",
     "collapsed": false,
     "input": [
      "#!/usr/bin/env python\n",
      "# -*- coding: utf-8 -*-\n",
      "\"\"\"\n",
      "Your task is to use the iterative parsing to process the map file and\n",
      "find out not only what tags are there, but also how many, to get the\n",
      "feeling on how much of which data you can expect to have in the map.\n",
      "The output should be a dictionary with the tag name as the key\n",
      "and number of times this tag can be encountered in the map as value.\n",
      "\n",
      "Note that your code will be tested with a different data file than the 'example.osm'\n",
      "\"\"\"\n",
      "import xml.etree.ElementTree as ET\n",
      "import pprint\n",
      "\n",
      "def count_tags(filename):\n",
      "        # YOUR CODE HERE\n",
      "        \n",
      "        tagsd = {}\n",
      "        \n",
      "        for event, elem in ET.iterparse(filename):\n",
      "            if event == 'end':\n",
      "                \n",
      "                if elem.tag not in tagsd.keys():\n",
      "                    tagsd[elem.tag] = 1\n",
      "                else:\n",
      "                    tagsd[elem.tag] +=1\n",
      "            elem.clear()\n",
      "        return tagsd\n",
      "\n",
      "\n",
      "def test():\n",
      "\n",
      "    tags = count_tags('myseattle.osm')\n",
      "    pprint.pprint(tags)\n",
      "    \"\"\"assert tags == {'bounds': 1,\n",
      "                     'member': 3,\n",
      "                     'nd': 4,\n",
      "                     'node': 20,\n",
      "                     'osm': 1,\n",
      "                     'relation': 1,\n",
      "                     'tag': 7,\n",
      "                     'way': 1}\"\"\"\n",
      "\n",
      "    \n",
      "\n",
      "if __name__ == \"__main__\":\n",
      "    test()"
     ],
     "language": "python",
     "metadata": {},
     "outputs": [
      {
       "output_type": "stream",
       "stream": "stdout",
       "text": [
        "{'member': 4481,\n",
        " 'meta': 1,\n",
        " 'nd': 572100,\n",
        " 'node': 524392,\n",
        " 'note': 1,\n",
        " 'osm': 1,\n",
        " 'relation': 120,\n",
        " 'tag': 361339,\n",
        " 'way': 57064}\n"
       ]
      }
     ],
     "prompt_number": 4
    },
    {
     "cell_type": "code",
     "collapsed": false,
     "input": [
      "cd ~"
     ],
     "language": "python",
     "metadata": {},
     "outputs": [
      {
       "output_type": "stream",
       "stream": "stdout",
       "text": [
        "C:\\Users\\baumanat\n"
       ]
      }
     ],
     "prompt_number": 2
    },
    {
     "cell_type": "code",
     "collapsed": false,
     "input": [
      "cd Downloads/"
     ],
     "language": "python",
     "metadata": {},
     "outputs": [
      {
       "output_type": "stream",
       "stream": "stdout",
       "text": [
        "C:\\Users\\baumanat\\Downloads\n"
       ]
      }
     ],
     "prompt_number": 3
    },
    {
     "cell_type": "code",
     "collapsed": false,
     "input": [
      "ls"
     ],
     "language": "python",
     "metadata": {},
     "outputs": [
      {
       "output_type": "stream",
       "stream": "stdout",
       "text": [
        " Volume in drive C is WIN7\n",
        " Volume Serial Number is F893-77D5\n",
        "\n",
        " Directory of C:\\Users\\baumanat\\Downloads\n",
        "\n",
        "04/22/2014  11:19 AM    <DIR>          .\n",
        "04/22/2014  11:19 AM    <DIR>          ..\n",
        "04/03/2014  12:54 PM           829,018 001.pdf\n",
        "03/11/2014  04:23 PM         3,547,002 10.12688_f1000research.2-272.v1_20140304.pdf\n",
        "10/01/2013  01:29 PM         2,292,694 Analzying Intact Proteins with TripleTOF 5600.pdf\n",
        "11/11/2013  11:20 AM         1,084,416 Chap.2.ppt\n",
        "02/11/2014  04:21 PM         2,446,699 cheng2012.pdf\n",
        "03/11/2014  10:12 AM            47,616 contacts.doc\n",
        "12/17/2013  09:06 AM           268,650 Document_1951559_99828.pdf\n",
        "12/17/2013  09:06 AM           677,516 Document_1951561_17008.pdf\n",
        "04/21/2014  04:48 PM            51,083 elucidation-of-structure-s31-ct.docx\n",
        "10/28/2013  04:45 PM            28,160 ESI-MS-adducts.xls\n",
        "08/21/2012  02:35 PM           872,337 fulltext.pdf\n",
        "04/21/2014  04:50 PM            39,145 general-properties-s13-ct.docx\n",
        "10/01/2013  01:29 PM           301,929 Intact Therapeutic mAb Protein on TripleTOF 5600 System.pdf\n",
        "04/22/2014  11:19 AM            48,227 map.crdownload\n",
        "04/18/2014  12:51 PM             8,341 mshoes.jpg\n",
        "07/03/2012  02:02 PM           431,043 MSR20362.pdf\n",
        "04/18/2014  11:31 AM           623,619 New Doc 24.pdf\n",
        "03/11/2014  04:17 PM           965,891 nmeth.2702.pdf\n",
        "03/11/2014  04:17 PM         1,216,853 nmeth.2703.pdf\n",
        "04/21/2014  04:48 PM            37,008 nomenclature-s11-ct.docx\n",
        "10/04/2012  11:33 AM            40,960 openProteinProduction.fp7\n",
        "04/21/2014  04:50 PM            37,259 PEG Relaxin Initial IND_TOC_14Apr2014 (1).xlsx\n",
        "04/21/2014  02:07 PM            37,259 PEG Relaxin Initial IND_TOC_14Apr2014.xlsx\n",
        "06/06/2013  12:25 PM           155,997 PEGRlxIDQualDataProcessing_Repaired.xlsx\n",
        "04/22/2014  10:32 AM     1,263,283,171 seattle.osm\n",
        "04/22/2014  10:32 AM        77,625,594 seattle.osm.bz2\n",
        "04/22/2014  10:35 AM       274,204,083 seattletop.xml\n",
        "04/02/2014  03:11 PM    <DIR>          Skyline_2_5_0_5675\n",
        "01/27/2014  01:18 PM            21,312 Staples Employee Program 2013.docx\n",
        "04/21/2014  04:52 PM            35,990 structure-s12-ct.docx\n",
        "04/21/2014  01:17 PM    <DIR>          Temp_Hold\n",
        "              29 File(s)  1,631,258,872 bytes\n",
        "               4 Dir(s)  73,177,849,856 bytes free\n"
       ]
      }
     ],
     "prompt_number": 3
    },
    {
     "cell_type": "code",
     "collapsed": false,
     "input": [],
     "language": "python",
     "metadata": {},
     "outputs": []
    }
   ],
   "metadata": {}
  }
 ]
}