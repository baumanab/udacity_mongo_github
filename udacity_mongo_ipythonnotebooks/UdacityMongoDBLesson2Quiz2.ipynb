{
 "metadata": {
  "name": ""
 },
 "nbformat": 3,
 "nbformat_minor": 0,
 "worksheets": [
  {
   "cells": [
    {
     "cell_type": "code",
     "collapsed": false,
     "input": [
      "#!/usr/bin/env python\n",
      "# -*- coding: utf-8 -*-\n",
      "# Please note that the function 'make_request' is provided for your reference only.\n",
      "# You will not be able to to actually use it from within the Udacity web UI\n",
      "# All your changes should be in the 'extract_data' function\n",
      "\n",
      "from bs4 import BeautifulSoup\n",
      "import requests\n",
      "import json\n",
      "\n",
      "html_page = \"page_source.html\"\n",
      "\n",
      "\n",
      "def extract_data(page):\n",
      "    data = {\"eventvalidation\": \"\",\n",
      "            \"viewstate\": \"\"}\n",
      "    with open(page, \"r\") as html:\n",
      "        # do something here to find the necessary values\n",
      "        soup = BeautifulSoup(html)\n",
      "        ev = soup.find(id=\"__EVENTVALIDATION\")\n",
      "        data[\"eventvalidation\"] = ev[\"value\"]\n",
      "\n",
      "        vs = soup.find(id=\"__VIEWSTATE\")\n",
      "        data[\"viewstate\"] = vs[\"value\"]\n",
      "\n",
      "    return data\n",
      "\n",
      "\n",
      "def make_request(data):\n",
      "    eventvalidation = data[\"eventvalidation\"]\n",
      "    viewstate = data[\"viewstate\"]\n",
      "\n",
      "    r = requests.post(\"http://www.transtats.bts.gov/Data_Elements.aspx?Data=2\",\n",
      "                    data={'AirportList': \"BOS\",\n",
      "                          'CarrierList': \"VX\",\n",
      "                          'Submit': 'Submit',\n",
      "                          \"__EVENTTARGET\": \"\",\n",
      "                          \"__EVENTARGUMENT\": \"\",\n",
      "                          \"__EVENTVALIDATION\": eventvalidation,\n",
      "                          \"__VIEWSTATE\": viewstate\n",
      "                    })\n",
      "\n",
      "    return r.text\n",
      "\n",
      "\n",
      "def test():\n",
      "    data = extract_data(html_page)\n",
      "    assert data[\"eventvalidation\"] != \"\"\n",
      "    assert data[\"eventvalidation\"].startswith(\"/wEWjAkCoIj1ng0\")\n",
      "    assert data[\"viewstate\"].startswith(\"/wEPDwUKLTI\")\n",
      "\n",
      "    \n",
      "test()"
     ],
     "language": "python",
     "metadata": {},
     "outputs": [],
     "prompt_number": 11
    },
    {
     "cell_type": "code",
     "collapsed": false,
     "input": [
      "print(test())"
     ],
     "language": "python",
     "metadata": {},
     "outputs": [
      {
       "output_type": "stream",
       "stream": "stdout",
       "text": [
        "None\n"
       ]
      }
     ],
     "prompt_number": 12
    },
    {
     "cell_type": "code",
     "collapsed": false,
     "input": [
      "pwd"
     ],
     "language": "python",
     "metadata": {},
     "outputs": [
      {
       "metadata": {},
       "output_type": "pyout",
       "prompt_number": 3,
       "text": [
        "u'C:\\\\Users\\\\Andrew\\\\Documents\\\\IPython Notebooks'"
       ]
      }
     ],
     "prompt_number": 3
    },
    {
     "cell_type": "code",
     "collapsed": false,
     "input": [
      "cd .."
     ],
     "language": "python",
     "metadata": {},
     "outputs": [
      {
       "output_type": "stream",
       "stream": "stdout",
       "text": [
        "C:\\Users\\Andrew\\Documents\n"
       ]
      }
     ],
     "prompt_number": 4
    },
    {
     "cell_type": "code",
     "collapsed": false,
     "input": [
      "cd GitHub/ud032/Lesson_2_Data_in_More_Complex_Formats/"
     ],
     "language": "python",
     "metadata": {},
     "outputs": [
      {
       "output_type": "stream",
       "stream": "stdout",
       "text": [
        "C:\\Users\\Andrew\\Documents\\GitHub\\ud032\\Lesson_2_Data_in_More_Complex_Formats\n"
       ]
      }
     ],
     "prompt_number": 5
    },
    {
     "cell_type": "code",
     "collapsed": false,
     "input": [
      "ls"
     ],
     "language": "python",
     "metadata": {},
     "outputs": [
      {
       "output_type": "stream",
       "stream": "stdout",
       "text": [
        " Volume in drive C is OS\n",
        " Volume Serial Number is E897-22A6\n",
        "\n",
        " Directory of C:\\Users\\Andrew\\Documents\\GitHub\\ud032\\Lesson_2_Data_in_More_Complex_Formats\n",
        "\n",
        "03/06/2014  08:48 PM    <DIR>          .\n",
        "03/06/2014  08:48 PM    <DIR>          ..\n",
        "03/06/2014  08:48 PM    <DIR>          07-Extracting_Data\n",
        "03/06/2014  08:48 PM    <DIR>          08-Handling_Attributes\n",
        "03/06/2014  08:48 PM    <DIR>          18-Using_Beautiful_Soup\n",
        "               0 File(s)              0 bytes\n",
        "               5 Dir(s)  854,802,378,752 bytes free\n"
       ]
      }
     ],
     "prompt_number": 6
    },
    {
     "cell_type": "code",
     "collapsed": false,
     "input": [
      "cd 18-Using_Beautiful_Soup/"
     ],
     "language": "python",
     "metadata": {},
     "outputs": [
      {
       "output_type": "stream",
       "stream": "stdout",
       "text": [
        "C:\\Users\\Andrew\\Documents\\GitHub\\ud032\\Lesson_2_Data_in_More_Complex_Formats\\18-Using_Beautiful_Soup\n"
       ]
      }
     ],
     "prompt_number": 7
    },
    {
     "cell_type": "code",
     "collapsed": false,
     "input": [
      "ls"
     ],
     "language": "python",
     "metadata": {},
     "outputs": [
      {
       "output_type": "stream",
       "stream": "stdout",
       "text": [
        " Volume in drive C is OS\n",
        " Volume Serial Number is E897-22A6\n",
        "\n",
        " Directory of C:\\Users\\Andrew\\Documents\\GitHub\\ud032\\Lesson_2_Data_in_More_Complex_Formats\\18-Using_Beautiful_Soup\n",
        "\n",
        "03/06/2014  08:48 PM    <DIR>          .\n",
        "03/06/2014  08:48 PM    <DIR>          ..\n",
        "03/07/2014  09:28 PM             1,620 html_soup.py\n",
        "03/06/2014  08:48 PM           143,365 page_source.html\n",
        "               2 File(s)        144,985 bytes\n",
        "               2 Dir(s)  854,802,378,752 bytes free\n"
       ]
      }
     ],
     "prompt_number": 8
    },
    {
     "cell_type": "code",
     "collapsed": false,
     "input": [],
     "language": "python",
     "metadata": {},
     "outputs": []
    }
   ],
   "metadata": {}
  }
 ]
}