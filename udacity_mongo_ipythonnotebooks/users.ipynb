{
 "metadata": {
  "name": ""
 },
 "nbformat": 3,
 "nbformat_minor": 0,
 "worksheets": [
  {
   "cells": [
    {
     "cell_type": "code",
     "collapsed": false,
     "input": [
      "#!/usr/bin/env python\n",
      "# -*- coding: utf-8 -*-\n",
      "import xml.etree.ElementTree as ET\n",
      "import pprint\n",
      "import re\n",
      "\"\"\"\n",
      "Your task is to explore the data a bit more.\n",
      "The first task is a fun one - find out how many unique users\n",
      "have contributed to the map in this particular area!\n",
      "\n",
      "The function process_map should return a set of unique user IDs (\"uid\")\n",
      "\"\"\"\n",
      "\n",
      "def get_user(element):\n",
      "    return\n",
      "\n",
      "\n",
      "\n",
      "def process_map(filename):\n",
      "    users = set()\n",
      "    for _, element in ET.iterparse(filename):\n",
      "        if element.tag == 'node':\n",
      "            for node in element.iter('node'):\n",
      "                userid = node.attrib['uid']\n",
      "                users.add(userid)\n",
      "\n",
      "    return users\n",
      "\n",
      "\n",
      "\n"
     ],
     "language": "python",
     "metadata": {},
     "outputs": [],
     "prompt_number": 1
    },
    {
     "cell_type": "code",
     "collapsed": false,
     "input": [
      "len(process_map('myseattle.osm'))"
     ],
     "language": "python",
     "metadata": {},
     "outputs": [
      {
       "metadata": {},
       "output_type": "pyout",
       "prompt_number": 3,
       "text": [
        "179"
       ]
      }
     ],
     "prompt_number": 3
    },
    {
     "cell_type": "code",
     "collapsed": false,
     "input": [],
     "language": "python",
     "metadata": {},
     "outputs": []
    }
   ],
   "metadata": {}
  }
 ]
}