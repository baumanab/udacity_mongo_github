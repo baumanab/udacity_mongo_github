{
 "metadata": {
  "name": ""
 },
 "nbformat": 3,
 "nbformat_minor": 0,
 "worksheets": [
  {
   "cells": [
    {
     "cell_type": "code",
     "collapsed": false,
     "input": [
      "cd ../GitHub/ud032/Lesson_4_Working_with_MongoDB/10-Finding_Porsche/\n"
     ],
     "language": "python",
     "metadata": {},
     "outputs": [
      {
       "output_type": "stream",
       "stream": "stdout",
       "text": [
        "C:\\Users\\Andrew\\Documents\\GitHub\\ud032\\Lesson_4_Working_with_MongoDB\\10-Finding_Porsche\n"
       ]
      }
     ],
     "prompt_number": 1
    },
    {
     "cell_type": "code",
     "collapsed": false,
     "input": [
      "ls"
     ],
     "language": "python",
     "metadata": {},
     "outputs": [
      {
       "output_type": "stream",
       "stream": "stdout",
       "text": [
        " Volume in drive C is OS\n",
        " Volume Serial Number is E897-22A6\n",
        "\n",
        " Directory of C:\\Users\\Andrew\\Documents\\GitHub\\ud032\\Lesson_4_Working_with_MongoDB\\10-Finding_Porsche\n",
        "\n",
        "03/22/2014  09:01 PM    <DIR>          .\n",
        "03/22/2014  09:01 PM    <DIR>          ..\n",
        "02/11/2014  07:44 PM        13,107,734 autos.csv\n",
        "03/06/2014  09:48 PM             4,783 autos.py\n",
        "02/11/2014  07:44 PM        38,379,925 cities.csv\n",
        "03/06/2014  09:48 PM               306 example_car.json\n",
        "03/06/2014  09:48 PM             1,103 find_porsche.py\n",
        "03/06/2014  09:48 PM               529 insert.py\n",
        "               6 File(s)     51,494,380 bytes\n",
        "               2 Dir(s)  848,732,893,184 bytes free\n"
       ]
      }
     ],
     "prompt_number": 2
    },
    {
     "cell_type": "code",
     "collapsed": false,
     "input": [
      "#!/usr/bin/env python\n",
      "\"\"\"\n",
      "Your task is to complete the 'porsche_query' function and in particular the query\n",
      "to find all autos where the manufacturer field matches \"Porsche\".\n",
      "Please modify only 'porsche_query' function, as only that will be taken into account.\n",
      "\n",
      "Your code will be run against a MongoDB instance that we have provided.\n",
      "If you want to run this code locally on your machine,\n",
      "you have to install MongoDB and download and insert the dataset.\n",
      "For instructions related to MongoDB setup and datasets please see Course Materials at\n",
      "the following link:\n",
      "https://www.udacity.com/wiki/ud032\n",
      "\"\"\"\n",
      "from autos import process_file        \n",
      "\n",
      "insert_autos('autos.csv', db)\n",
      "\n",
      "def get_db(db_name):\n",
      "    from pymongo import MongoClient\n",
      "    client = MongoClient('localhost:27017')\n",
      "    db = client[db_name]\n",
      "    return db\n",
      "\n",
      "\n",
      "\n",
      "def porsche_query():\n",
      "    # Please fill in the query to find all autos manuafactured by Porsche\n",
      "    query = {\"manufacturer\":\"Porsche\"}\n",
      "    return query\n",
      "\n",
      "\n",
      "def find_porsche(db, query):\n",
      "    return db.autos.find(query)\n",
      "\n",
      "\n",
      "if __name__ == \"__main__\":\n",
      "\n",
      "    db = get_db('examples')\n",
      "    query = porsche_query()\n",
      "    p = find_porsche(db, query)\n",
      "    import pprint\n",
      "    print db.autos.find(query)\n",
      "    \n",
      "# follow up question how do I print the first 3 results\n",
      "#follow up inserting the autos csv as the db\n",
      "#how to print the results?"
     ],
     "language": "python",
     "metadata": {},
     "outputs": [
      {
       "output_type": "stream",
       "stream": "stdout",
       "text": [
        "<pymongo.cursor.Cursor object at 0x00000000077CD2B0>\n"
       ]
      }
     ],
     "prompt_number": 9
    },
    {
     "cell_type": "code",
     "collapsed": false,
     "input": [
      "from autos import process_file\n",
      "import pprint\n",
      "\n",
      "\n",
      "def insert_autos(infile, db):\n",
      "    autos = process_file(infile)\n",
      "\n",
      "    # Your code here. Insert the data in one command\n",
      "    # autos will be a list of dictionaries, as in the example in the previous video\n",
      "    # You have to insert data in a collection 'autos'\n",
      "    for a in autos:\n",
      "        db.autos.insert(a)\n",
      "        \n",
      "\n",
      "\n",
      "  \n",
      "if __name__ == \"__main__\":\n",
      "    \n",
      "    from pymongo import MongoClient\n",
      "    client = MongoClient(\"mongodb://localhost:27017\")\n",
      "    db = client.examples\n",
      "\n",
      "    insert_autos('autos.csv', db)\n",
      "    pprint.pprint(db.autos.find_one())\n",
      "    \n",
      "    #follow up on how the process file code all works together\n",
      "    #what is db.autos.find_one?  what if I want to print 3\n"
     ],
     "language": "python",
     "metadata": {},
     "outputs": [
      {
       "output_type": "stream",
       "stream": "stdout",
       "text": [
        "{u'_id': ObjectId('532bd432d1f0611f38ffbc87'),\n",
        " u'assembly': [u'Hiroshima', u'Japan'],\n",
        " u'class': u'roadster',\n",
        " u'layout': u'front-engine rear-wheel-drive layout',\n",
        " u'manufacturer': u'Mazda',\n",
        " u'modelYears': [],\n",
        " u'name': [u'Eunos Roadster',\n",
        "           u'Mazda MX-5',\n",
        "           u'Mazda MX-5 Miata',\n",
        "           u'Mazda Miata',\n",
        "           u'Mazda Roadster'],\n",
        " u'productionYears': []}\n"
       ]
      }
     ],
     "prompt_number": 5
    },
    {
     "cell_type": "code",
     "collapsed": false,
     "input": [],
     "language": "python",
     "metadata": {},
     "outputs": []
    }
   ],
   "metadata": {}
  }
 ]
}