{
 "metadata": {
  "name": ""
 },
 "nbformat": 3,
 "nbformat_minor": 0,
 "worksheets": [
  {
   "cells": [
    {
     "cell_type": "code",
     "collapsed": false,
     "input": [
      "cd C:\\Users\\Andrew\\Documents\\GitHub\\ud032\\Lesson_2_Problem_Set\\01-Carrier_List"
     ],
     "language": "python",
     "metadata": {},
     "outputs": [
      {
       "output_type": "stream",
       "stream": "stdout",
       "text": [
        "C:\\Users\\Andrew\\Documents\\GitHub\\ud032\\Lesson_2_Problem_Set\\01-Carrier_List\n"
       ]
      }
     ],
     "prompt_number": 2
    },
    {
     "cell_type": "code",
     "collapsed": false,
     "input": [
      "#!/usr/bin/env python\n",
      "# -*- coding: utf-8 -*-\n",
      "# All your changes should be in the 'extract_airports' function\n",
      "# It should return a list of airport codes, excluding any combinations like \"All\"\n",
      "\n",
      "from bs4 import BeautifulSoup\n",
      "html_page = \"options.html\"\n",
      "\n",
      "\n",
      "def extract_airports(page):\n",
      "    data = []\n",
      "    with open(page, \"r\") as html:\n",
      "        # do something here to find the necessary values\n",
      "        soup = BeautifulSoup(html)\n",
      "        al = soup.find(id=\"AirportList\")\n",
      "        for option in al.find_all('option'):\n",
      "            if not 'All' in option['value']:\n",
      "                data.append(option['value'])\n",
      "\n",
      "    return data\n",
      "\n",
      "\n",
      "def test():\n",
      "    data = extract_airports(html_page)\n",
      "    assert len(data) == 15\n",
      "    assert \"ATL\" in data\n",
      "    assert \"ABR\" in data\n",
      "\n",
      "test()"
     ],
     "language": "python",
     "metadata": {},
     "outputs": [],
     "prompt_number": 5
    },
    {
     "cell_type": "code",
     "collapsed": false,
     "input": [
      "extract_airports('options.html')"
     ],
     "language": "python",
     "metadata": {},
     "outputs": [
      {
       "metadata": {},
       "output_type": "pyout",
       "prompt_number": 6,
       "text": [
        "['ATL',\n",
        " 'BWI',\n",
        " 'BOS',\n",
        " 'CLT',\n",
        " 'MDW',\n",
        " 'ORD',\n",
        " 'DFW',\n",
        " 'DEN',\n",
        " 'DTW',\n",
        " 'FLL',\n",
        " 'IAH',\n",
        " 'LAS',\n",
        " 'LAX',\n",
        " 'ABR',\n",
        " 'ABI']"
       ]
      }
     ],
     "prompt_number": 6
    },
    {
     "cell_type": "code",
     "collapsed": false,
     "input": [],
     "language": "python",
     "metadata": {},
     "outputs": []
    }
   ],
   "metadata": {}
  }
 ]
}