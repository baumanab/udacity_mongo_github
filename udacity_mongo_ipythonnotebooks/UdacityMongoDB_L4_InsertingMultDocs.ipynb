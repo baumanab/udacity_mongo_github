{
 "metadata": {
  "name": ""
 },
 "nbformat": 3,
 "nbformat_minor": 0,
 "worksheets": [
  {
   "cells": [
    {
     "cell_type": "code",
     "collapsed": false,
     "input": [
      "cd ../GitHub/ud032/Lesson_4_Working_with_MongoDB/14-Inserting_Multiple_Documents/"
     ],
     "language": "python",
     "metadata": {},
     "outputs": [
      {
       "output_type": "stream",
       "stream": "stdout",
       "text": [
        "C:\\Users\\Andrew\\Documents\\GitHub\\ud032\\Lesson_4_Working_with_MongoDB\\14-Inserting_Multiple_Documents\n"
       ]
      }
     ],
     "prompt_number": 1
    },
    {
     "cell_type": "code",
     "collapsed": false,
     "input": [
      "ls"
     ],
     "language": "python",
     "metadata": {},
     "outputs": [
      {
       "output_type": "stream",
       "stream": "stdout",
       "text": [
        " Volume in drive C is OS\n",
        " Volume Serial Number is E897-22A6\n",
        "\n",
        " Directory of C:\\Users\\Andrew\\Documents\\GitHub\\ud032\\Lesson_4_Working_with_MongoDB\\14-Inserting_Multiple_Documents\n",
        "\n",
        "03/22/2014  08:30 PM    <DIR>          .\n",
        "03/22/2014  08:30 PM    <DIR>          ..\n",
        "02/11/2014  07:44 PM        13,107,734 autos.csv\n",
        "03/06/2014  09:48 PM             4,783 autos.py\n",
        "03/20/2014  10:45 PM             5,441 autos.pyc\n",
        "03/06/2014  09:48 PM            39,211 autos-small.csv\n",
        "02/11/2014  07:44 PM        38,379,925 cities.csv\n",
        "03/06/2014  09:48 PM               529 insert.py\n",
        "               6 File(s)     51,537,623 bytes\n",
        "               2 Dir(s)  848,741,646,336 bytes free\n"
       ]
      }
     ],
     "prompt_number": 2
    },
    {
     "cell_type": "code",
     "collapsed": false,
     "input": [
      "from autos import process_file\n",
      "import pprint\n",
      "\n",
      "\n",
      "def insert_autos(infile, db):\n",
      "    autos = process_file(infile)\n",
      "\n",
      "    # Your code here. Insert the data in one command\n",
      "    # autos will be a list of dictionaries, as in the example in the previous video\n",
      "    # You have to insert data in a collection 'autos'\n",
      "    for a in autos:\n",
      "        db.autos.insert(a)\n",
      "        \n",
      "\n",
      "\n",
      "  \n",
      "if __name__ == \"__main__\":\n",
      "    \n",
      "    from pymongo import MongoClient\n",
      "    client = MongoClient(\"mongodb://localhost:27017\")\n",
      "    db = client.examples\n",
      "\n",
      "    insert_autos('autos.csv', db)\n",
      "    pprint.pprint(db.autos.find_one())\n",
      "    \n",
      "    #follow up on how the process file code all works together"
     ],
     "language": "python",
     "metadata": {},
     "outputs": [
      {
       "output_type": "stream",
       "stream": "stdout",
       "text": [
        "{u'_id': ObjectId('532e622dd1f0611f803a246e'),\n",
        " u'dimensions': {u'length': 39.9288, u'weight': 2721000.0, u'width': 34.7472},\n",
        " u'engine': u'Crawler-transporter__1',\n",
        " u'manufacturer': u'Marion Power Shovel Company',\n",
        " u'modelYears': [],\n",
        " u'name': u'Crawler-transporter',\n",
        " u'productionYears': [],\n",
        " u'transmission': u'16 traction motors powered by four  generators'}\n"
       ]
      }
     ],
     "prompt_number": 4
    },
    {
     "cell_type": "code",
     "collapsed": false,
     "input": [],
     "language": "python",
     "metadata": {},
     "outputs": []
    }
   ],
   "metadata": {}
  }
 ]
}