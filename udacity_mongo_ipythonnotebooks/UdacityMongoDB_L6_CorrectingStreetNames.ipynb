{
 "metadata": {
  "name": ""
 },
 "nbformat": 3,
 "nbformat_minor": 0,
 "worksheets": [
  {
   "cells": [
    {
     "cell_type": "code",
     "collapsed": false,
     "input": [
      "cd .."
     ],
     "language": "python",
     "metadata": {},
     "outputs": [
      {
       "output_type": "stream",
       "stream": "stdout",
       "text": [
        "C:\\Users\\Andrew\\Documents\\Udacity\n"
       ]
      }
     ],
     "prompt_number": 7
    },
    {
     "cell_type": "code",
     "collapsed": false,
     "input": [
      "cd Udacity/udacity_mongo/"
     ],
     "language": "python",
     "metadata": {},
     "outputs": [
      {
       "output_type": "stream",
       "stream": "stdout",
       "text": [
        "[Error 3] The system cannot find the path specified: u'Udacity/udacity_mongo/'\n",
        "C:\\Users\\Andrew\\Documents\\Udacity\n"
       ]
      }
     ],
     "prompt_number": 8
    },
    {
     "cell_type": "code",
     "collapsed": false,
     "input": [
      "\"\"\"\n",
      "Your task in this exercise has two steps:\n",
      "\n",
      "- audit the OSMFILE and change the variable 'mapping' to reflect the changes needed to fix \n",
      "    the unexpected street types to the appropriate ones in the expected list.\n",
      "    You have to add mappings only for the actual problems you find in this OSMFILE,\n",
      "    not a generalized solution, since that may and will depend on the particular area you are auditing.\n",
      "- write the update_name function, to actually fix the street name.\n",
      "    The function takes a string with street name as an argument and should return the fixed name\n",
      "    We have provided a simple test so that you see what exactly is expected\n",
      "\"\"\"\n",
      "import xml.etree.cElementTree as ET\n",
      "from collections import defaultdict\n",
      "import re\n",
      "import pprint\n",
      "\n",
      "OSMFILE = \"example.osm\"\n",
      "street_type_re = re.compile(r'\\b\\S+\\.?$', re.IGNORECASE)\n",
      "\n",
      "\n",
      "expected = [\"Street\", \"Avenue\", \"Boulevard\", \"Drive\", \"Court\", \"Place\", \"Square\", \"Lane\", \"Road\", \n",
      "            \"Trail\", \"Parkway\", \"Commons\"]\n",
      "\n",
      "# UPDATE THIS VARIABLE\n",
      "mapping = { \"St\": \"Street\",\n",
      "            \"St.\": \"Street\",\n",
      "            \"Ave\": \"Avenue\",\n",
      "            \"Rd.\": \"Road\"\n",
      "            }\n",
      "\n",
      "\n",
      "def audit_street_type(street_types, street_name):\n",
      "    m = street_type_re.search(street_name)\n",
      "    if m:\n",
      "        street_type = m.group()\n",
      "        if street_type not in expected:\n",
      "            street_types[street_type].add(street_name)\n",
      "\n",
      "\n",
      "def is_street_name(elem):\n",
      "    return (elem.attrib['k'] == \"addr:street\")\n",
      "\n",
      "\n",
      "def audit(osmfile):\n",
      "    osm_file = open(osmfile, \"r\")\n",
      "    street_types = defaultdict(set)\n",
      "    for event, elem in ET.iterparse(osm_file, events=(\"start\",)):\n",
      "\n",
      "        if elem.tag == \"node\" or elem.tag == \"way\":\n",
      "            for tag in elem.iter(\"tag\"):\n",
      "                if is_street_name(tag):\n",
      "                    audit_street_type(street_types, tag.attrib['v'])\n",
      "\n",
      "    return street_types\n",
      "\n",
      "\n",
      "def update_name(name, mapping):\n",
      "\n",
      "    # YOUR CODE HERE\n",
      "    sttype = name.split(' ')[-1]\n",
      "    name = name.replace(sttype,mapping.get(sttype))\n",
      "    return name\n",
      "\n",
      "\n",
      "def test():\n",
      "    st_types = audit(OSMFILE)\n",
      "    #assert len(st_types) == 3\n",
      "    pprint.pprint(dict(st_types))\n",
      "\n",
      "    for st_type, ways in st_types.iteritems():\n",
      "        for name in ways:\n",
      "            better_name = update_name(name, mapping)\n",
      "            print name, \"=>\", better_name\n",
      "            #if name == \"West Lexington St.\":\n",
      "                #assert better_name == \"West Lexington Street\"\n",
      "            #if name == \"Baldwin Rd.\":\n",
      "                #assert better_name == \"Baldwin Road\"\n",
      "\n",
      "\n",
      "if __name__ == '__main__':\n",
      "    test()"
     ],
     "language": "python",
     "metadata": {},
     "outputs": [
      {
       "output_type": "stream",
       "stream": "stdout",
       "text": [
        "{}\n"
       ]
      }
     ],
     "prompt_number": 6
    },
    {
     "cell_type": "code",
     "collapsed": false,
     "input": [
      "ls"
     ],
     "language": "python",
     "metadata": {},
     "outputs": [
      {
       "output_type": "stream",
       "stream": "stdout",
       "text": [
        " Volume in drive C is OS\n",
        " Volume Serial Number is E897-22A6\n",
        "\n",
        " Directory of C:\\Users\\Andrew\\Documents\\Udacity\n",
        "\n",
        "04/20/2014  08:36 PM    <DIR>          .\n",
        "04/20/2014  08:36 PM    <DIR>          ..\n",
        "04/20/2014  08:36 PM                 0 example.osm.json\n",
        "02/24/2014  01:08 AM    <DIR>          Hadoop_MapReduce\n",
        "02/22/2014  02:58 AM    <DIR>          Intro_Data_Science\n",
        "04/20/2014  08:34 PM    <DIR>          udacity_mongo\n",
        "               1 File(s)              0 bytes\n",
        "               5 Dir(s)  831,293,898,752 bytes free\n"
       ]
      }
     ],
     "prompt_number": 9
    },
    {
     "cell_type": "code",
     "collapsed": false,
     "input": [
      "cd udacity_mongo/"
     ],
     "language": "python",
     "metadata": {},
     "outputs": [
      {
       "output_type": "stream",
       "stream": "stdout",
       "text": [
        "C:\\Users\\Andrew\\Documents\\Udacity\\udacity_mongo\n"
       ]
      }
     ],
     "prompt_number": 10
    },
    {
     "cell_type": "code",
     "collapsed": false,
     "input": [],
     "language": "python",
     "metadata": {},
     "outputs": []
    }
   ],
   "metadata": {}
  }
 ]
}