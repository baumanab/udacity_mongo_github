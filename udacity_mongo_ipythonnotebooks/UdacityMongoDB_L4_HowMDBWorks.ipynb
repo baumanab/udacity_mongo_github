{
 "metadata": {
  "name": ""
 },
 "nbformat": 3,
 "nbformat_minor": 0,
 "worksheets": [
  {
   "cells": [
    {
     "cell_type": "code",
     "collapsed": false,
     "input": [],
     "language": "python",
     "metadata": {},
     "outputs": []
    },
    {
     "cell_type": "code",
     "collapsed": false,
     "input": [
      "\"\"\"\n",
      "Your task is to sucessfully run the exercise to see how pymongo works\n",
      "and how easy it is to start using it.\n",
      "You don't actually have to change anything in this exercise,\n",
      "but you can change the city name in the add_city function if you like.\n",
      "\n",
      "Your code will be run against a MongoDB instance that we have provided.\n",
      "If you want to run this code locally on your machine,\n",
      "you have to install MongoDB (see Instructor comments for link to installation information)\n",
      "and uncomment the get_db function.\n",
      "\"\"\"\n",
      "\n",
      "\n",
      "def get_db():\n",
      "    from pymongo import MongoClient\n",
      "    client = MongoClient('localhost:27017')\n",
      "    # 'examples' here is the database name. It will be created if it does not exist.\n",
      "    db = client.examples\n",
      "    return db\n",
      "\n",
      "\n",
      "def add_city(db):\n",
      "    db.cities.insert({\"name\" : \"Chicago\"})\n",
      "    \n",
      "def get_city(db):\n",
      "    return db.cities.find_one()\n",
      "\n",
      "\n",
      "if __name__ == \"__main__\":\n",
      "\n",
      "    db = get_db() # uncomment this line if you want to run this locally\n",
      "    add_city(db)\n",
      "    print get_city(db)"
     ],
     "language": "python",
     "metadata": {},
     "outputs": [
      {
       "output_type": "stream",
       "stream": "stdout",
       "text": [
        "{u'_id': ObjectId('53289d49d1f0611e04ca694a'), u'name': u'Chicago'}\n"
       ]
      }
     ],
     "prompt_number": 1
    },
    {
     "cell_type": "code",
     "collapsed": false,
     "input": [],
     "language": "python",
     "metadata": {},
     "outputs": []
    }
   ],
   "metadata": {}
  }
 ]
}