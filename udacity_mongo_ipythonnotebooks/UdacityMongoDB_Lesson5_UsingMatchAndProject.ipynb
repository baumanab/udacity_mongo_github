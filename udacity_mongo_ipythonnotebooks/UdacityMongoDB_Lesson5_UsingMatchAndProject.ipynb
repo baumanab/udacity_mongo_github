{
 "metadata": {
  "name": ""
 },
 "nbformat": 3,
 "nbformat_minor": 0,
 "worksheets": [
  {
   "cells": [
    {
     "cell_type": "code",
     "collapsed": false,
     "input": [
      "+cd ..\n"
     ],
     "language": "python",
     "metadata": {},
     "outputs": [
      {
       "output_type": "stream",
       "stream": "stdout",
       "text": [
        "C:\\Users\\Andrew\\Documents\n"
       ]
      }
     ],
     "prompt_number": 2
    },
    {
     "cell_type": "code",
     "collapsed": false,
     "input": [
      "cd Udacity/"
     ],
     "language": "python",
     "metadata": {},
     "outputs": [
      {
       "output_type": "stream",
       "stream": "stdout",
       "text": [
        "C:\\Users\\Andrew\\Documents\\Udacity\n"
       ]
      }
     ],
     "prompt_number": 4
    },
    {
     "cell_type": "code",
     "collapsed": false,
     "input": [
      "cd udacity_mongo/"
     ],
     "language": "python",
     "metadata": {},
     "outputs": [
      {
       "output_type": "stream",
       "stream": "stdout",
       "text": [
        "C:\\Users\\Andrew\\Documents\\Udacity\\udacity_mongo\n"
       ]
      }
     ],
     "prompt_number": 6
    },
    {
     "cell_type": "code",
     "collapsed": false,
     "input": [
      "cd ~"
     ],
     "language": "python",
     "metadata": {},
     "outputs": [
      {
       "output_type": "stream",
       "stream": "stdout",
       "text": [
        "C:\\Users\\Andrew\n"
       ]
      }
     ],
     "prompt_number": 8
    },
    {
     "cell_type": "code",
     "collapsed": false,
     "input": [
      "cd Documents/GitHub/ud032/Lesson_5_Analyzing_Data/"
     ],
     "language": "python",
     "metadata": {},
     "outputs": [
      {
       "output_type": "stream",
       "stream": "stdout",
       "text": [
        "C:\\Users\\Andrew\\Documents\\GitHub\\ud032\\Lesson_5_Analyzing_Data\n"
       ]
      }
     ],
     "prompt_number": 9
    },
    {
     "cell_type": "code",
     "collapsed": false,
     "input": [
      "ls"
     ],
     "language": "python",
     "metadata": {},
     "outputs": [
      {
       "output_type": "stream",
       "stream": "stdout",
       "text": [
        " Volume in drive C is OS\n",
        " Volume Serial Number is E897-22A6\n",
        "\n",
        " Directory of C:\\Users\\Andrew\\Documents\\GitHub\\ud032\\Lesson_5_Analyzing_Data\n",
        "\n",
        "03/06/2014  09:48 PM    <DIR>          .\n",
        "03/06/2014  09:48 PM    <DIR>          ..\n",
        "03/06/2014  09:48 PM    <DIR>          05-Using_group\n",
        "03/06/2014  09:48 PM    <DIR>          10-Using_match_and_project\n",
        "03/06/2014  09:48 PM    <DIR>          12-Using_unwind\n",
        "03/06/2014  09:48 PM    <DIR>          14-Using_push\n",
        "03/06/2014  09:48 PM    <DIR>          16-Same_Operator\n",
        "               0 File(s)              0 bytes\n",
        "               7 Dir(s)  835,536,044,032 bytes free\n"
       ]
      }
     ],
     "prompt_number": 10
    },
    {
     "cell_type": "code",
     "collapsed": false,
     "input": [
      "cd 10-Using_match_and_project/"
     ],
     "language": "python",
     "metadata": {},
     "outputs": [
      {
       "output_type": "stream",
       "stream": "stdout",
       "text": [
        "C:\\Users\\Andrew\\Documents\\GitHub\\ud032\\Lesson_5_Analyzing_Data\\10-Using_match_and_project\n"
       ]
      }
     ],
     "prompt_number": 11
    },
    {
     "cell_type": "code",
     "collapsed": false,
     "input": [
      "ls"
     ],
     "language": "python",
     "metadata": {},
     "outputs": [
      {
       "output_type": "stream",
       "stream": "stdout",
       "text": [
        " Volume in drive C is OS\n",
        " Volume Serial Number is E897-22A6\n",
        "\n",
        " Directory of C:\\Users\\Andrew\\Documents\\GitHub\\ud032\\Lesson_5_Analyzing_Data\\10-Using_match_and_project\n",
        "\n",
        "03/06/2014  09:48 PM    <DIR>          .\n",
        "03/06/2014  09:48 PM    <DIR>          ..\n",
        "03/06/2014  09:48 PM             2,251 followers.py\n",
        "               1 File(s)          2,251 bytes\n",
        "               2 Dir(s)  835,533,357,056 bytes free\n"
       ]
      }
     ],
     "prompt_number": 12
    },
    {
     "cell_type": "code",
     "collapsed": false,
     "input": [
      "#!/usr/bin/env python\n",
      "\"\"\"\n",
      "Write an aggregation query to answer this question:\n",
      "\n",
      "Of the users in the \"Brasilia\" timezone who have tweeted 100 times or more,\n",
      "who has the largest number of followers?\n",
      "\n",
      "The following hints will help you solve this problem:\n",
      "- Time zone is found in the \"time_zone\" field of the user object in each tweet.\n",
      "- The number of tweets for each user is found in the \"statuses_count\" field.\n",
      "  To access these fields you will need to use dot notation (from Lesson 4)\n",
      "- Your aggregation query should return something like the following:\n",
      "{u'ok': 1.0,\n",
      " u'result': [{u'_id': ObjectId('52fd2490bac3fa1975477702'),\n",
      "                  u'followers': 2597,\n",
      "                  u'screen_name': u'marbles',\n",
      "                  u'tweets': 12334}]}\n",
      "\n",
      "Please modify only the 'make_pipeline' function so that it creates and returns an aggregation \n",
      "pipeline that can be passed to the MongoDB aggregate function. As in our examples in this lesson,\n",
      "the aggregation pipeline should be a list of one or more dictionary objects. \n",
      "Please review the lesson examples if you are unsure of the syntax.\n",
      "\n",
      "Your code will be run against a MongoDB instance that we have provided. If you want to run this code\n",
      "locally on your machine, you have to install MongoDB, download and insert the dataset.\n",
      "For instructions related to MongoDB setup and datasets please see Course Materials.\n",
      "\n",
      "Please note that the dataset you are using here is a smaller version of the twitter dataset used \n",
      "in examples in this lesson. If you attempt some of the same queries that we looked at in the lesson \n",
      "examples, your results will be different.\n",
      "\"\"\"\n",
      "\n",
      "def get_db(db_name):\n",
      "    from pymongo import MongoClient\n",
      "    client = MongoClient('localhost:27017')\n",
      "    db = client[db_name]\n",
      "    return db\n",
      "\n",
      "def make_pipeline():\n",
      "    # complete the aggregation pipeline\n",
      "    pipeline = [\n",
      "    {'$match' : {'user.time_zone': 'Brasilia',\n",
      "                 'user.statuses_count': {'$gte': 100}}},\n",
      "    {'$project' : {'followers': '$user.followers_count',\n",
      "                   'screen_name': '$user.screen_name',\n",
      "                   'tweets': '$user.statuses_count'}},\n",
      "    {'$sort' : {'followers' : -1}},\n",
      "    {'$limit' : 1}]\n",
      "    return pipeline\n",
      "\n",
      "def aggregate(db, pipeline):\n",
      "    result = db.tweets.aggregate(pipeline)\n",
      "    return result\n",
      "\n",
      "if __name__ == '__main__':\n",
      "    db = get_db('twitter')\n",
      "    pipeline = make_pipeline()\n",
      "    result = aggregate(db, pipeline)\n",
      "    #assert len(result[\"result\"]) == 1\n",
      "    #assert result[\"result\"][0][\"followers\"] == 17209\n",
      "    import pprint\n",
      "    pprint.pprint(result)\n",
      "    \n",
      "    \n"
     ],
     "language": "python",
     "metadata": {},
     "outputs": [
      {
       "output_type": "stream",
       "stream": "stdout",
       "text": [
        "{u'ok': 1.0,\n",
        " u'result': [{u'_id': ObjectId('53521c32a5499b1077bc7485'),\n",
        "              u'followers': 259760,\n",
        "              u'screen_name': u'otaviomesquita',\n",
        "              u'tweets': 10997}]}\n"
       ]
      }
     ],
     "prompt_number": 14
    },
    {
     "cell_type": "code",
     "collapsed": false,
     "input": [
      "Example Tweet:\n",
      "\n",
      "{\n",
      "    \"_id\" : ObjectId(\"5304e2e3cc9e684aa98bef97\"),\n",
      "    \"text\" : \"First week of school is over :P\",\n",
      "    \"in_reply_to_status_id\" : null,\n",
      "    \"retweet_count\" : null,\n",
      "    \"contributors\" : null,\n",
      "    \"created_at\" : \"Thu Sep 02 18:11:25 +0000 2010\",\n",
      "    \"geo\" : null,\n",
      "    \"source\" : \"web\",\n",
      "    \"coordinates\" : null,\n",
      "    \"in_reply_to_screen_name\" : null,\n",
      "    \"truncated\" : false,\n",
      "    \"entities\" : {\n",
      "        \"user_mentions\" : [ ],\n",
      "        \"urls\" : [ ],\n",
      "        \"hashtags\" : [ ]\n",
      "    },\n",
      "    \"retweeted\" : false,\n",
      "    \"place\" : null,\n",
      "    \"user\" : {\n",
      "        \"friends_count\" : 145,\n",
      "        \"profile_sidebar_fill_color\" : \"E5507E\",\n",
      "        \"location\" : \"Ireland :)\",\n",
      "        \"verified\" : false,\n",
      "        \"follow_request_sent\" : null,\n",
      "        \"favourites_count\" : 1,\n",
      "        \"profile_sidebar_border_color\" : \"CC3366\",\n",
      "        \"profile_image_url\" : \"http://a1.twimg.com/profile_images/1107778717/phpkHoxzmAM_normal.jpg\",\n",
      "        \"geo_enabled\" : false,\n",
      "        \"created_at\" : \"Sun May 03 19:51:04 +0000 2009\",\n",
      "        \"description\" : \"\",\n",
      "        \"time_zone\" : null,\n",
      "        \"url\" : null,\n",
      "        \"screen_name\" : \"Catherinemull\",\n",
      "        \"notifications\" : null,\n",
      "        \"profile_background_color\" : \"FF6699\",\n",
      "        \"listed_count\" : 77,\n",
      "        \"lang\" : \"en\",\n",
      "        \"profile_background_image_url\" : \"http://a3.twimg.com/profile_background_images/138228501/149174881-8cd806890274b828ed56598091c84e71_4c6fd4d8-full.jpg\",\n",
      "        \"statuses_count\" : 2475,\n",
      "        \"following\" : null,\n",
      "        \"profile_text_color\" : \"362720\",\n",
      "        \"protected\" : false,\n",
      "        \"show_all_inline_media\" : false,\n",
      "        \"profile_background_tile\" : true,\n",
      "        \"name\" : \"Catherine Mullane\",\n",
      "        \"contributors_enabled\" : false,\n",
      "        \"profile_link_color\" : \"B40B43\",\n",
      "        \"followers_count\" : 169,\n",
      "        \"id\" : 37486277,\n",
      "        \"profile_use_background_image\" : true,\n",
      "        \"utc_offset\" : null\n",
      "    },\n",
      "    \"favorited\" : false,\n",
      "    \"in_reply_to_user_id\" : null,\n",
      "    \"id\" : NumberLong(\"22819398300\")\n",
      "}\n",
      "Discussions See All\n",
      "\n",
      "Problem with renaming the fields with $project Mar 9\n",
      "\n",
      "Would be great if I could see what the output is generated by my pipeline Mar 3\n",
      "\n",
      "Start a Discussion\n",
      "Report an issue\n"
     ],
     "language": "python",
     "metadata": {},
     "outputs": []
    }
   ],
   "metadata": {}
  }
 ]
}